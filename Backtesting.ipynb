{
 "cells": [
  {
   "cell_type": "markdown",
   "metadata": {},
   "source": [
    "#  Quant Portfolio: Backtesting\n",
    "\n",
    "By Joe Osborne: joe.osborne1337@gmail.com\n",
    "\n",
    "Some of the techniques I use are from Hilpisch's Python for Finance: Mastering Data-Driven Finance 2nd Ed"
   ]
  },
  {
   "cell_type": "markdown",
   "metadata": {},
   "source": [
    "## Data retrival"
   ]
  },
  {
   "cell_type": "markdown",
   "metadata": {},
   "source": [
    "First, we must import libraries..."
   ]
  },
  {
   "cell_type": "code",
   "execution_count": 1,
   "metadata": {},
   "outputs": [],
   "source": [
    "import numpy as np\n",
    "import pandas as pd\n",
    "import datetime as dt\n",
    "from pylab import mpl, plt"
   ]
  },
  {
   "cell_type": "markdown",
   "metadata": {},
   "source": [
    "... and style our plots"
   ]
  },
  {
   "cell_type": "code",
   "execution_count": 2,
   "metadata": {},
   "outputs": [],
   "source": [
    "plt.style.use('seaborn')\n",
    "mpl.rcParams['font.family'] = 'serif'\n",
    "%matplotlib inline"
   ]
  },
  {
   "cell_type": "markdown",
   "metadata": {},
   "source": [
    "Second, we must retrive the financial data. (From Hilpisch for now)."
   ]
  },
  {
   "cell_type": "code",
   "execution_count": 3,
   "metadata": {},
   "outputs": [],
   "source": [
    "raw = pd.read_csv('http://hilpisch.com/tr_eikon_eod_data.csv',\n",
    "                  index_col=0, parse_dates=True)"
   ]
  },
  {
   "cell_type": "code",
   "execution_count": 4,
   "metadata": {
    "scrolled": true
   },
   "outputs": [
    {
     "name": "stdout",
     "output_type": "stream",
     "text": [
      "<class 'pandas.core.frame.DataFrame'>\n",
      "DatetimeIndex: 2216 entries, 2010-01-01 to 2018-06-29\n",
      "Data columns (total 12 columns):\n",
      " #   Column  Non-Null Count  Dtype  \n",
      "---  ------  --------------  -----  \n",
      " 0   AAPL.O  2138 non-null   float64\n",
      " 1   MSFT.O  2138 non-null   float64\n",
      " 2   INTC.O  2138 non-null   float64\n",
      " 3   AMZN.O  2138 non-null   float64\n",
      " 4   GS.N    2138 non-null   float64\n",
      " 5   SPY     2138 non-null   float64\n",
      " 6   .SPX    2138 non-null   float64\n",
      " 7   .VIX    2138 non-null   float64\n",
      " 8   EUR=    2216 non-null   float64\n",
      " 9   XAU=    2211 non-null   float64\n",
      " 10  GDX     2138 non-null   float64\n",
      " 11  GLD     2138 non-null   float64\n",
      "dtypes: float64(12)\n",
      "memory usage: 225.1 KB\n"
     ]
    }
   ],
   "source": [
    "raw.info()\n",
    "\n",
    "data = (pd.DataFrame(raw).dropna());\n",
    "symbols = list(raw)"
   ]
  },
  {
   "cell_type": "markdown",
   "metadata": {},
   "source": [
    "## Mean Reversion Strategy\n",
    "\n",
    "This strategy uses a short term and long term moving average. The long term moving average lags the short term moving average. When they cross over, it indicates a change in trend.\n",
    "\n",
    "When the short-term moving average rises through the long-term this indicates a bullish phase and when the short-term moving average slips below the long-term moving average this indicates a bearish phase.\n",
    "\n",
    "This strategy ignores:\n",
    "- Transactional costs\n",
    "- Portfolio composition and optimization\n",
    "    - Diversity\n",
    "    - Risky and risk-less asset composition\n",
    "    - Initial equity and leverage ratio"
   ]
  },
  {
   "cell_type": "code",
   "execution_count": 5,
   "metadata": {},
   "outputs": [],
   "source": [
    "MAs = {'2mo': 42, '12mo': 252}; # in days\n",
    "symbol = symbols[0];\n",
    "\n",
    "for MA in MAs:\n",
    "    data[symbol+'_MA_'+MA] = data[symbol].rolling(MAs[MA]).mean()        \n",
    "data.dropna(inplace=True)"
   ]
  },
  {
   "cell_type": "code",
   "execution_count": 6,
   "metadata": {},
   "outputs": [
    {
     "data": {
      "text/html": [
       "<div>\n",
       "<style scoped>\n",
       "    .dataframe tbody tr th:only-of-type {\n",
       "        vertical-align: middle;\n",
       "    }\n",
       "\n",
       "    .dataframe tbody tr th {\n",
       "        vertical-align: top;\n",
       "    }\n",
       "\n",
       "    .dataframe thead th {\n",
       "        text-align: right;\n",
       "    }\n",
       "</style>\n",
       "<table border=\"1\" class=\"dataframe\">\n",
       "  <thead>\n",
       "    <tr style=\"text-align: right;\">\n",
       "      <th></th>\n",
       "      <th>AAPL.O</th>\n",
       "      <th>MSFT.O</th>\n",
       "      <th>INTC.O</th>\n",
       "      <th>AMZN.O</th>\n",
       "      <th>GS.N</th>\n",
       "      <th>SPY</th>\n",
       "      <th>.SPX</th>\n",
       "      <th>.VIX</th>\n",
       "      <th>EUR=</th>\n",
       "      <th>XAU=</th>\n",
       "      <th>GDX</th>\n",
       "      <th>GLD</th>\n",
       "      <th>AAPL.O_MA_2mo</th>\n",
       "      <th>AAPL.O_MA_12mo</th>\n",
       "    </tr>\n",
       "    <tr>\n",
       "      <th>Date</th>\n",
       "      <th></th>\n",
       "      <th></th>\n",
       "      <th></th>\n",
       "      <th></th>\n",
       "      <th></th>\n",
       "      <th></th>\n",
       "      <th></th>\n",
       "      <th></th>\n",
       "      <th></th>\n",
       "      <th></th>\n",
       "      <th></th>\n",
       "      <th></th>\n",
       "      <th></th>\n",
       "      <th></th>\n",
       "    </tr>\n",
       "  </thead>\n",
       "  <tbody>\n",
       "    <tr>\n",
       "      <th>2010-12-31</th>\n",
       "      <td>46.079954</td>\n",
       "      <td>27.9100</td>\n",
       "      <td>21.03</td>\n",
       "      <td>180.00</td>\n",
       "      <td>168.16</td>\n",
       "      <td>125.75</td>\n",
       "      <td>1257.64</td>\n",
       "      <td>17.75</td>\n",
       "      <td>1.3377</td>\n",
       "      <td>1419.45</td>\n",
       "      <td>61.47</td>\n",
       "      <td>138.72</td>\n",
       "      <td>45.280967</td>\n",
       "      <td>37.120735</td>\n",
       "    </tr>\n",
       "    <tr>\n",
       "      <th>2011-01-03</th>\n",
       "      <td>47.081381</td>\n",
       "      <td>27.9800</td>\n",
       "      <td>20.85</td>\n",
       "      <td>184.22</td>\n",
       "      <td>173.05</td>\n",
       "      <td>127.05</td>\n",
       "      <td>1271.87</td>\n",
       "      <td>17.61</td>\n",
       "      <td>1.3351</td>\n",
       "      <td>1413.80</td>\n",
       "      <td>60.77</td>\n",
       "      <td>138.00</td>\n",
       "      <td>45.349708</td>\n",
       "      <td>37.186246</td>\n",
       "    </tr>\n",
       "    <tr>\n",
       "      <th>2011-01-04</th>\n",
       "      <td>47.327096</td>\n",
       "      <td>28.0875</td>\n",
       "      <td>21.15</td>\n",
       "      <td>185.01</td>\n",
       "      <td>173.08</td>\n",
       "      <td>126.98</td>\n",
       "      <td>1270.20</td>\n",
       "      <td>17.38</td>\n",
       "      <td>1.3301</td>\n",
       "      <td>1380.21</td>\n",
       "      <td>59.02</td>\n",
       "      <td>134.75</td>\n",
       "      <td>45.412599</td>\n",
       "      <td>37.252521</td>\n",
       "    </tr>\n",
       "    <tr>\n",
       "      <th>2011-01-05</th>\n",
       "      <td>47.714238</td>\n",
       "      <td>28.0000</td>\n",
       "      <td>20.94</td>\n",
       "      <td>187.42</td>\n",
       "      <td>174.00</td>\n",
       "      <td>127.64</td>\n",
       "      <td>1276.56</td>\n",
       "      <td>17.02</td>\n",
       "      <td>1.3151</td>\n",
       "      <td>1376.80</td>\n",
       "      <td>58.22</td>\n",
       "      <td>134.37</td>\n",
       "      <td>45.466102</td>\n",
       "      <td>37.322266</td>\n",
       "    </tr>\n",
       "    <tr>\n",
       "      <th>2011-01-06</th>\n",
       "      <td>47.675667</td>\n",
       "      <td>28.8200</td>\n",
       "      <td>20.77</td>\n",
       "      <td>185.86</td>\n",
       "      <td>172.21</td>\n",
       "      <td>127.39</td>\n",
       "      <td>1273.85</td>\n",
       "      <td>17.40</td>\n",
       "      <td>1.3001</td>\n",
       "      <td>1371.00</td>\n",
       "      <td>56.74</td>\n",
       "      <td>133.83</td>\n",
       "      <td>45.522565</td>\n",
       "      <td>37.392079</td>\n",
       "    </tr>\n",
       "  </tbody>\n",
       "</table>\n",
       "</div>"
      ],
      "text/plain": [
       "               AAPL.O   MSFT.O  INTC.O  AMZN.O    GS.N     SPY     .SPX  \\\n",
       "Date                                                                      \n",
       "2010-12-31  46.079954  27.9100   21.03  180.00  168.16  125.75  1257.64   \n",
       "2011-01-03  47.081381  27.9800   20.85  184.22  173.05  127.05  1271.87   \n",
       "2011-01-04  47.327096  28.0875   21.15  185.01  173.08  126.98  1270.20   \n",
       "2011-01-05  47.714238  28.0000   20.94  187.42  174.00  127.64  1276.56   \n",
       "2011-01-06  47.675667  28.8200   20.77  185.86  172.21  127.39  1273.85   \n",
       "\n",
       "             .VIX    EUR=     XAU=    GDX     GLD  AAPL.O_MA_2mo  \\\n",
       "Date                                                               \n",
       "2010-12-31  17.75  1.3377  1419.45  61.47  138.72      45.280967   \n",
       "2011-01-03  17.61  1.3351  1413.80  60.77  138.00      45.349708   \n",
       "2011-01-04  17.38  1.3301  1380.21  59.02  134.75      45.412599   \n",
       "2011-01-05  17.02  1.3151  1376.80  58.22  134.37      45.466102   \n",
       "2011-01-06  17.40  1.3001  1371.00  56.74  133.83      45.522565   \n",
       "\n",
       "            AAPL.O_MA_12mo  \n",
       "Date                        \n",
       "2010-12-31       37.120735  \n",
       "2011-01-03       37.186246  \n",
       "2011-01-04       37.252521  \n",
       "2011-01-05       37.322266  \n",
       "2011-01-06       37.392079  "
      ]
     },
     "execution_count": 6,
     "metadata": {},
     "output_type": "execute_result"
    }
   ],
   "source": [
    "data.head()"
   ]
  },
  {
   "cell_type": "code",
   "execution_count": 7,
   "metadata": {},
   "outputs": [],
   "source": [
    "MA_symbols = [symbol,symbol+'_MA_'+'2mo',symbol+'_MA_12mo'];\n",
    "\n",
    "#Buy when short term moving average is > long term, sell vice versa\n",
    "data[symbol+'_Position'] = np.where(data[symbol+'_MA_'+'2mo'] > data[symbol+'_MA_'+'12mo'], 1, -1)"
   ]
  },
  {
   "cell_type": "code",
   "execution_count": 8,
   "metadata": {},
   "outputs": [
    {
     "data": {
      "text/plain": [
       "<matplotlib.collections.PolyCollection at 0x1e70a0c5220>"
      ]
     },
     "execution_count": 8,
     "metadata": {},
     "output_type": "execute_result"
    },
    {
     "data": {
      "image/png": "[encoded data removed]",
      "text/plain": [
       "<Figure size 720x432 with 1 Axes>"
      ]
     },
     "metadata": {
      "needs_background": "light"
     },
     "output_type": "display_data"
    }
   ],
   "source": [
    "#Without position plotted\n",
    "ax = data[MA_symbols].plot(figsize=(10, 6))\n",
    "\n",
    "#With position plotted\n",
    "#ax = data.plot( secondary_y=symbol+'_Position', figsize=(10, 6))\n",
    "\n",
    "ax.get_legend().set_bbox_to_anchor((0.28, 0.95));\n",
    "\n",
    "#Shade between moving averages\n",
    "#ax.fill_between(data.index, data[symbol+'_MA_'+'2mo'].values, data[symbol+'_MA_'+'12mo'].values,\\\n",
    "#                 where=(data[symbol+'_MA_'+'2mo'].values > data[symbol+'_MA_'+'12mo'].values), color='C0', alpha=0.3)\n",
    "#ax.fill_between(data.index, data[symbol+'_MA_'+'2mo'].values, data[symbol+'_MA_'+'12mo'].values,\\\n",
    "#                 where=(data[symbol+'_MA_'+'2mo'].values < data[symbol+'_MA_'+'12mo'].values), color='C1', alpha=0.3)\n",
    "\n",
    "#Shade whole figure\n",
    "min = data[MA_symbols].min().min()\n",
    "max = data[MA_symbols].max().max()\n",
    "ax.fill_between(data.index, min, max,where=(data[symbol+'_MA_'+'2mo'].values > data[symbol+'_MA_'+'12mo'].values),\\\n",
    "                color='C0', alpha=0.3)\n",
    "ax.fill_between(data.index, min, max,where=(data[symbol+'_MA_'+'2mo'].values < data[symbol+'_MA_'+'12mo'].values),\\\n",
    "                color='C1', alpha=0.3)"
   ]
  },
  {
   "cell_type": "code",
   "execution_count": 9,
   "metadata": {},
   "outputs": [],
   "source": [
    "data[symbol+'_Returns'] = np.log(data[symbol] / data[symbol].shift(1))  "
   ]
  },
  {
   "cell_type": "code",
   "execution_count": 10,
   "metadata": {},
   "outputs": [
    {
     "data": {
      "text/html": [
       "<div>\n",
       "<style scoped>\n",
       "    .dataframe tbody tr th:only-of-type {\n",
       "        vertical-align: middle;\n",
       "    }\n",
       "\n",
       "    .dataframe tbody tr th {\n",
       "        vertical-align: top;\n",
       "    }\n",
       "\n",
       "    .dataframe thead th {\n",
       "        text-align: right;\n",
       "    }\n",
       "</style>\n",
       "<table border=\"1\" class=\"dataframe\">\n",
       "  <thead>\n",
       "    <tr style=\"text-align: right;\">\n",
       "      <th></th>\n",
       "      <th>AAPL.O</th>\n",
       "      <th>MSFT.O</th>\n",
       "      <th>INTC.O</th>\n",
       "      <th>AMZN.O</th>\n",
       "      <th>GS.N</th>\n",
       "      <th>SPY</th>\n",
       "      <th>.SPX</th>\n",
       "      <th>.VIX</th>\n",
       "      <th>EUR=</th>\n",
       "      <th>XAU=</th>\n",
       "      <th>GDX</th>\n",
       "      <th>GLD</th>\n",
       "      <th>AAPL.O_MA_2mo</th>\n",
       "      <th>AAPL.O_MA_12mo</th>\n",
       "      <th>AAPL.O_Position</th>\n",
       "      <th>AAPL.O_Returns</th>\n",
       "    </tr>\n",
       "    <tr>\n",
       "      <th>Date</th>\n",
       "      <th></th>\n",
       "      <th></th>\n",
       "      <th></th>\n",
       "      <th></th>\n",
       "      <th></th>\n",
       "      <th></th>\n",
       "      <th></th>\n",
       "      <th></th>\n",
       "      <th></th>\n",
       "      <th></th>\n",
       "      <th></th>\n",
       "      <th></th>\n",
       "      <th></th>\n",
       "      <th></th>\n",
       "      <th></th>\n",
       "      <th></th>\n",
       "    </tr>\n",
       "  </thead>\n",
       "  <tbody>\n",
       "    <tr>\n",
       "      <th>2010-12-31</th>\n",
       "      <td>46.079954</td>\n",
       "      <td>27.9100</td>\n",
       "      <td>21.03</td>\n",
       "      <td>180.00</td>\n",
       "      <td>168.16</td>\n",
       "      <td>125.75</td>\n",
       "      <td>1257.64</td>\n",
       "      <td>17.75</td>\n",
       "      <td>1.3377</td>\n",
       "      <td>1419.45</td>\n",
       "      <td>61.47</td>\n",
       "      <td>138.72</td>\n",
       "      <td>45.280967</td>\n",
       "      <td>37.120735</td>\n",
       "      <td>1</td>\n",
       "      <td>NaN</td>\n",
       "    </tr>\n",
       "    <tr>\n",
       "      <th>2011-01-03</th>\n",
       "      <td>47.081381</td>\n",
       "      <td>27.9800</td>\n",
       "      <td>20.85</td>\n",
       "      <td>184.22</td>\n",
       "      <td>173.05</td>\n",
       "      <td>127.05</td>\n",
       "      <td>1271.87</td>\n",
       "      <td>17.61</td>\n",
       "      <td>1.3351</td>\n",
       "      <td>1413.80</td>\n",
       "      <td>60.77</td>\n",
       "      <td>138.00</td>\n",
       "      <td>45.349708</td>\n",
       "      <td>37.186246</td>\n",
       "      <td>1</td>\n",
       "      <td>0.021500</td>\n",
       "    </tr>\n",
       "    <tr>\n",
       "      <th>2011-01-04</th>\n",
       "      <td>47.327096</td>\n",
       "      <td>28.0875</td>\n",
       "      <td>21.15</td>\n",
       "      <td>185.01</td>\n",
       "      <td>173.08</td>\n",
       "      <td>126.98</td>\n",
       "      <td>1270.20</td>\n",
       "      <td>17.38</td>\n",
       "      <td>1.3301</td>\n",
       "      <td>1380.21</td>\n",
       "      <td>59.02</td>\n",
       "      <td>134.75</td>\n",
       "      <td>45.412599</td>\n",
       "      <td>37.252521</td>\n",
       "      <td>1</td>\n",
       "      <td>0.005205</td>\n",
       "    </tr>\n",
       "    <tr>\n",
       "      <th>2011-01-05</th>\n",
       "      <td>47.714238</td>\n",
       "      <td>28.0000</td>\n",
       "      <td>20.94</td>\n",
       "      <td>187.42</td>\n",
       "      <td>174.00</td>\n",
       "      <td>127.64</td>\n",
       "      <td>1276.56</td>\n",
       "      <td>17.02</td>\n",
       "      <td>1.3151</td>\n",
       "      <td>1376.80</td>\n",
       "      <td>58.22</td>\n",
       "      <td>134.37</td>\n",
       "      <td>45.466102</td>\n",
       "      <td>37.322266</td>\n",
       "      <td>1</td>\n",
       "      <td>0.008147</td>\n",
       "    </tr>\n",
       "    <tr>\n",
       "      <th>2011-01-06</th>\n",
       "      <td>47.675667</td>\n",
       "      <td>28.8200</td>\n",
       "      <td>20.77</td>\n",
       "      <td>185.86</td>\n",
       "      <td>172.21</td>\n",
       "      <td>127.39</td>\n",
       "      <td>1273.85</td>\n",
       "      <td>17.40</td>\n",
       "      <td>1.3001</td>\n",
       "      <td>1371.00</td>\n",
       "      <td>56.74</td>\n",
       "      <td>133.83</td>\n",
       "      <td>45.522565</td>\n",
       "      <td>37.392079</td>\n",
       "      <td>1</td>\n",
       "      <td>-0.000809</td>\n",
       "    </tr>\n",
       "  </tbody>\n",
       "</table>\n",
       "</div>"
      ],
      "text/plain": [
       "               AAPL.O   MSFT.O  INTC.O  AMZN.O    GS.N     SPY     .SPX  \\\n",
       "Date                                                                      \n",
       "2010-12-31  46.079954  27.9100   21.03  180.00  168.16  125.75  1257.64   \n",
       "2011-01-03  47.081381  27.9800   20.85  184.22  173.05  127.05  1271.87   \n",
       "2011-01-04  47.327096  28.0875   21.15  185.01  173.08  126.98  1270.20   \n",
       "2011-01-05  47.714238  28.0000   20.94  187.42  174.00  127.64  1276.56   \n",
       "2011-01-06  47.675667  28.8200   20.77  185.86  172.21  127.39  1273.85   \n",
       "\n",
       "             .VIX    EUR=     XAU=    GDX     GLD  AAPL.O_MA_2mo  \\\n",
       "Date                                                               \n",
       "2010-12-31  17.75  1.3377  1419.45  61.47  138.72      45.280967   \n",
       "2011-01-03  17.61  1.3351  1413.80  60.77  138.00      45.349708   \n",
       "2011-01-04  17.38  1.3301  1380.21  59.02  134.75      45.412599   \n",
       "2011-01-05  17.02  1.3151  1376.80  58.22  134.37      45.466102   \n",
       "2011-01-06  17.40  1.3001  1371.00  56.74  133.83      45.522565   \n",
       "\n",
       "            AAPL.O_MA_12mo  AAPL.O_Position  AAPL.O_Returns  \n",
       "Date                                                         \n",
       "2010-12-31       37.120735                1             NaN  \n",
       "2011-01-03       37.186246                1        0.021500  \n",
       "2011-01-04       37.252521                1        0.005205  \n",
       "2011-01-05       37.322266                1        0.008147  \n",
       "2011-01-06       37.392079                1       -0.000809  "
      ]
     },
     "execution_count": 10,
     "metadata": {},
     "output_type": "execute_result"
    }
   ],
   "source": [
    "data.head()"
   ]
  },
  {
   "cell_type": "code",
   "execution_count": 11,
   "metadata": {},
   "outputs": [],
   "source": [
    "data[symbol+'_Strategy'] = data[symbol+'_Position'].shift(1) * data[symbol+'_Returns']\n",
    "data.dropna(inplace=True)"
   ]
  },
  {
   "cell_type": "markdown",
   "metadata": {},
   "source": [
    "The performance of the moving average strategy is better than a long only strategy."
   ]
  },
  {
   "cell_type": "code",
   "execution_count": 12,
   "metadata": {},
   "outputs": [
    {
     "data": {
      "text/plain": [
       "AAPL.O_Returns     4.017148\n",
       "AAPL.O_Strategy    5.811299\n",
       "dtype: float64"
      ]
     },
     "execution_count": 12,
     "metadata": {},
     "output_type": "execute_result"
    }
   ],
   "source": [
    "np.exp(data[[symbol+'_Returns',symbol+'_Strategy']].sum())  "
   ]
  },
  {
   "cell_type": "markdown",
   "metadata": {},
   "source": [
    "### For all symbols"
   ]
  },
  {
   "cell_type": "code",
   "execution_count": 13,
   "metadata": {},
   "outputs": [],
   "source": [
    "MeanRevResults = pd.DataFrame()\n",
    "for symbol in symbols:\n",
    "    data = pd.DataFrame(raw[symbol])\n",
    "    data.dropna(inplace=True)\n",
    "    data['Returns'] = np.log(data[symbol] / data[symbol].shift(1))\n",
    "    data['SMA1'] = data[symbol].rolling(MAs['2mo']).mean()\n",
    "    data['SMA2'] = data[symbol].rolling(MAs['12mo']).mean()\n",
    "    data.dropna(inplace=True)\n",
    "    data['Position'] = np.where(data['SMA1'] > data['SMA2'], 1, -1)\n",
    "    data['Strategy'] = data['Position'].shift(1) * data['Returns']\n",
    "    data.dropna(inplace=True)\n",
    "    perf = np.exp(data[['Returns', 'Strategy']].sum())\n",
    "    benchm = perf['Strategy'] - perf['Returns'];\n",
    "    MeanRevResults = MeanRevResults.append(pd.DataFrame(\n",
    "                {'Symbol':  symbol ,'SMA1': MAs['2mo'], 'SMA2': MAs['12mo'],\n",
    "                 'MARKET': perf['Returns'],\n",
    "                 'STRATEGY': perf['Strategy'],\n",
    "                 'BENCHMARK': benchm},\n",
    "                 index=[0]), ignore_index=True)  "
   ]
  },
  {
   "cell_type": "code",
   "execution_count": 14,
   "metadata": {
    "scrolled": false
   },
   "outputs": [
    {
     "data": {
      "text/html": [
       "<div>\n",
       "<style scoped>\n",
       "    .dataframe tbody tr th:only-of-type {\n",
       "        vertical-align: middle;\n",
       "    }\n",
       "\n",
       "    .dataframe tbody tr th {\n",
       "        vertical-align: top;\n",
       "    }\n",
       "\n",
       "    .dataframe thead th {\n",
       "        text-align: right;\n",
       "    }\n",
       "</style>\n",
       "<table border=\"1\" class=\"dataframe\">\n",
       "  <thead>\n",
       "    <tr style=\"text-align: right;\">\n",
       "      <th></th>\n",
       "      <th>Symbol</th>\n",
       "      <th>SMA1</th>\n",
       "      <th>SMA2</th>\n",
       "      <th>MARKET</th>\n",
       "      <th>STRATEGY</th>\n",
       "      <th>BENCHMARK</th>\n",
       "    </tr>\n",
       "  </thead>\n",
       "  <tbody>\n",
       "    <tr>\n",
       "      <th>0</th>\n",
       "      <td>AAPL.O</td>\n",
       "      <td>42</td>\n",
       "      <td>252</td>\n",
       "      <td>4.017148</td>\n",
       "      <td>5.811299</td>\n",
       "      <td>1.794151</td>\n",
       "    </tr>\n",
       "    <tr>\n",
       "      <th>1</th>\n",
       "      <td>MSFT.O</td>\n",
       "      <td>42</td>\n",
       "      <td>252</td>\n",
       "      <td>3.533142</td>\n",
       "      <td>0.787798</td>\n",
       "      <td>-2.745344</td>\n",
       "    </tr>\n",
       "    <tr>\n",
       "      <th>2</th>\n",
       "      <td>INTC.O</td>\n",
       "      <td>42</td>\n",
       "      <td>252</td>\n",
       "      <td>2.363766</td>\n",
       "      <td>0.549313</td>\n",
       "      <td>-1.814453</td>\n",
       "    </tr>\n",
       "    <tr>\n",
       "      <th>3</th>\n",
       "      <td>AMZN.O</td>\n",
       "      <td>42</td>\n",
       "      <td>252</td>\n",
       "      <td>9.443333</td>\n",
       "      <td>3.462586</td>\n",
       "      <td>-5.980747</td>\n",
       "    </tr>\n",
       "    <tr>\n",
       "      <th>4</th>\n",
       "      <td>GS.N</td>\n",
       "      <td>42</td>\n",
       "      <td>252</td>\n",
       "      <td>1.311667</td>\n",
       "      <td>1.200371</td>\n",
       "      <td>-0.111297</td>\n",
       "    </tr>\n",
       "    <tr>\n",
       "      <th>5</th>\n",
       "      <td>SPY</td>\n",
       "      <td>42</td>\n",
       "      <td>252</td>\n",
       "      <td>2.157296</td>\n",
       "      <td>1.296339</td>\n",
       "      <td>-0.860958</td>\n",
       "    </tr>\n",
       "    <tr>\n",
       "      <th>6</th>\n",
       "      <td>.SPX</td>\n",
       "      <td>42</td>\n",
       "      <td>252</td>\n",
       "      <td>2.161485</td>\n",
       "      <td>1.394976</td>\n",
       "      <td>-0.766509</td>\n",
       "    </tr>\n",
       "    <tr>\n",
       "      <th>7</th>\n",
       "      <td>.VIX</td>\n",
       "      <td>42</td>\n",
       "      <td>252</td>\n",
       "      <td>0.906479</td>\n",
       "      <td>0.000269</td>\n",
       "      <td>-0.906210</td>\n",
       "    </tr>\n",
       "    <tr>\n",
       "      <th>8</th>\n",
       "      <td>EUR=</td>\n",
       "      <td>42</td>\n",
       "      <td>252</td>\n",
       "      <td>0.890608</td>\n",
       "      <td>1.370496</td>\n",
       "      <td>0.479888</td>\n",
       "    </tr>\n",
       "    <tr>\n",
       "      <th>9</th>\n",
       "      <td>XAU=</td>\n",
       "      <td>42</td>\n",
       "      <td>252</td>\n",
       "      <td>0.904642</td>\n",
       "      <td>1.099720</td>\n",
       "      <td>0.195079</td>\n",
       "    </tr>\n",
       "    <tr>\n",
       "      <th>10</th>\n",
       "      <td>GDX</td>\n",
       "      <td>42</td>\n",
       "      <td>252</td>\n",
       "      <td>0.362941</td>\n",
       "      <td>0.525712</td>\n",
       "      <td>0.162770</td>\n",
       "    </tr>\n",
       "    <tr>\n",
       "      <th>11</th>\n",
       "      <td>GLD</td>\n",
       "      <td>42</td>\n",
       "      <td>252</td>\n",
       "      <td>0.855320</td>\n",
       "      <td>1.116650</td>\n",
       "      <td>0.261330</td>\n",
       "    </tr>\n",
       "  </tbody>\n",
       "</table>\n",
       "</div>"
      ],
      "text/plain": [
       "    Symbol  SMA1  SMA2    MARKET  STRATEGY  BENCHMARK\n",
       "0   AAPL.O    42   252  4.017148  5.811299   1.794151\n",
       "1   MSFT.O    42   252  3.533142  0.787798  -2.745344\n",
       "2   INTC.O    42   252  2.363766  0.549313  -1.814453\n",
       "3   AMZN.O    42   252  9.443333  3.462586  -5.980747\n",
       "4     GS.N    42   252  1.311667  1.200371  -0.111297\n",
       "5      SPY    42   252  2.157296  1.296339  -0.860958\n",
       "6     .SPX    42   252  2.161485  1.394976  -0.766509\n",
       "7     .VIX    42   252  0.906479  0.000269  -0.906210\n",
       "8     EUR=    42   252  0.890608  1.370496   0.479888\n",
       "9     XAU=    42   252  0.904642  1.099720   0.195079\n",
       "10     GDX    42   252  0.362941  0.525712   0.162770\n",
       "11     GLD    42   252  0.855320  1.116650   0.261330"
      ]
     },
     "execution_count": 14,
     "metadata": {},
     "output_type": "execute_result"
    }
   ],
   "source": [
    "MeanRevResults"
   ]
  },
  {
   "cell_type": "markdown",
   "metadata": {},
   "source": [
    "Very poor performance per unit per stock. Perhaps this can be improved through optimization"
   ]
  },
  {
   "cell_type": "code",
   "execution_count": 15,
   "metadata": {
    "scrolled": true
   },
   "outputs": [
    {
     "data": {
      "text/plain": [
       "-10.292299091699832"
      ]
     },
     "execution_count": 15,
     "metadata": {},
     "output_type": "execute_result"
    }
   ],
   "source": [
    "MeanRevResults['BENCHMARK'].sum()"
   ]
  },
  {
   "cell_type": "markdown",
   "metadata": {},
   "source": [
    "### Optimize SMA1 and SMA2"
   ]
  },
  {
   "cell_type": "code",
   "execution_count": 16,
   "metadata": {},
   "outputs": [],
   "source": [
    "from itertools import product"
   ]
  },
  {
   "cell_type": "code",
   "execution_count": 17,
   "metadata": {},
   "outputs": [],
   "source": [
    "sma1 = range(20, 61, 4)  \n",
    "sma2 = range(180, 281, 10) "
   ]
  },
  {
   "cell_type": "code",
   "execution_count": 18,
   "metadata": {},
   "outputs": [],
   "source": [
    "results = pd.DataFrame()\n",
    "for SMA1, SMA2 in product(sma1, sma2):\n",
    "    MeanRevResults = pd.DataFrame()\n",
    "    for symbol in symbols:\n",
    "        data = pd.DataFrame(raw[symbol])\n",
    "        data.dropna(inplace=True)\n",
    "        data['Returns'] = np.log(data[symbol] / data[symbol].shift(1))\n",
    "        data['SMA1'] = data[symbol].rolling(SMA1).mean()\n",
    "        data['SMA2'] = data[symbol].rolling(SMA2).mean()\n",
    "        data.dropna(inplace=True)\n",
    "        data['Position'] = np.where(data['SMA1'] > data['SMA2'], 1, -1)\n",
    "        data['Strategy'] = data['Position'].shift(1) * data['Returns']\n",
    "        data.dropna(inplace=True)\n",
    "        perf = np.exp(data[['Returns', 'Strategy']].sum())\n",
    "        benchm = perf['Strategy'] - perf['Returns'];\n",
    "        MeanRevResults = MeanRevResults.append(pd.DataFrame(\n",
    "                    {'Symbol':  symbol ,'SMA1': SMA1, 'SMA2': SMA2,\n",
    "                     'MARKET': perf['Returns'],\n",
    "                     'STRATEGY': perf['Strategy'],\n",
    "                     'BENCHMARK': benchm},\n",
    "                     index=[0]), ignore_index=True) \n",
    "    Sum_Bench = MeanRevResults['BENCHMARK'].sum()\n",
    "    results = results.append(pd.DataFrame({'SMA1': SMA1, 'SMA2': SMA2,\n",
    "                     'SUM_BENCHMARK': Sum_Bench},\n",
    "                     index=[0]), ignore_index=True)"
   ]
  },
  {
   "cell_type": "markdown",
   "metadata": {},
   "source": [
    "Even with (brute force) optimization, the best strategy looses money for all stocks when considering all stocks"
   ]
  },
  {
   "cell_type": "code",
   "execution_count": 19,
   "metadata": {
    "scrolled": true
   },
   "outputs": [
    {
     "data": {
      "text/html": [
       "<div>\n",
       "<style scoped>\n",
       "    .dataframe tbody tr th:only-of-type {\n",
       "        vertical-align: middle;\n",
       "    }\n",
       "\n",
       "    .dataframe tbody tr th {\n",
       "        vertical-align: top;\n",
       "    }\n",
       "\n",
       "    .dataframe thead th {\n",
       "        text-align: right;\n",
       "    }\n",
       "</style>\n",
       "<table border=\"1\" class=\"dataframe\">\n",
       "  <thead>\n",
       "    <tr style=\"text-align: right;\">\n",
       "      <th></th>\n",
       "      <th>SMA1</th>\n",
       "      <th>SMA2</th>\n",
       "      <th>SUM_BENCHMARK</th>\n",
       "    </tr>\n",
       "  </thead>\n",
       "  <tbody>\n",
       "    <tr>\n",
       "      <th>5</th>\n",
       "      <td>20</td>\n",
       "      <td>230</td>\n",
       "      <td>-8.070165</td>\n",
       "    </tr>\n",
       "    <tr>\n",
       "      <th>14</th>\n",
       "      <td>24</td>\n",
       "      <td>210</td>\n",
       "      <td>-8.394682</td>\n",
       "    </tr>\n",
       "    <tr>\n",
       "      <th>6</th>\n",
       "      <td>20</td>\n",
       "      <td>240</td>\n",
       "      <td>-9.160755</td>\n",
       "    </tr>\n",
       "    <tr>\n",
       "      <th>120</th>\n",
       "      <td>60</td>\n",
       "      <td>280</td>\n",
       "      <td>-9.214176</td>\n",
       "    </tr>\n",
       "    <tr>\n",
       "      <th>39</th>\n",
       "      <td>32</td>\n",
       "      <td>240</td>\n",
       "      <td>-9.348413</td>\n",
       "    </tr>\n",
       "    <tr>\n",
       "      <th>7</th>\n",
       "      <td>20</td>\n",
       "      <td>250</td>\n",
       "      <td>-9.404732</td>\n",
       "    </tr>\n",
       "    <tr>\n",
       "      <th>25</th>\n",
       "      <td>28</td>\n",
       "      <td>210</td>\n",
       "      <td>-9.471894</td>\n",
       "    </tr>\n",
       "  </tbody>\n",
       "</table>\n",
       "</div>"
      ],
      "text/plain": [
       "     SMA1  SMA2  SUM_BENCHMARK\n",
       "5      20   230      -8.070165\n",
       "14     24   210      -8.394682\n",
       "6      20   240      -9.160755\n",
       "120    60   280      -9.214176\n",
       "39     32   240      -9.348413\n",
       "7      20   250      -9.404732\n",
       "25     28   210      -9.471894"
      ]
     },
     "execution_count": 19,
     "metadata": {},
     "output_type": "execute_result"
    }
   ],
   "source": [
    "results.sort_values('SUM_BENCHMARK', ascending=False).head(7)"
   ]
  }
 ],
 "metadata": {
  "kernelspec": {
   "display_name": "Python 3",
   "language": "python",
   "name": "python3"
  },
  "language_info": {
   "codemirror_mode": {
    "name": "ipython",
    "version": 3
   },
   "file_extension": ".py",
   "mimetype": "text/x-python",
   "name": "python",
   "nbconvert_exporter": "python",
   "pygments_lexer": "ipython3",
   "version": "3.8.5"
  }
 },
 "nbformat": 4,
 "nbformat_minor": 4
}
