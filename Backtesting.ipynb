{
 "cells": [
  {
   "cell_type": "markdown",
   "metadata": {},
   "source": [
    "#  Quant Portfolio: Backtesting\n",
    "\n",
    "By Joe Osborne: joe.osborne1337@gmail.com\n",
    "\n",
    "Some of the techniques I use are from Hilpisch's Python for Finance: Mastering Data-Driven Finance 2nd Ed\n",
    "\n",
    "\n",
    "Contents\n",
    "### Data retrival\n",
    "### Mean Reversion Strategy\n",
    "##### For All Symbols\n",
    "##### Optimize SMA1 and SMA2\n",
    "##### Frequency Approach\n",
    "### Machine Learning Classification\n",
    "##### Two Binary Features\n",
    "##### Five Binary Features\n",
    "##### Five Digitized Features\n",
    "##### Sequential Test-Train Splits\n",
    "##### Random Test-Train Splits \n",
    "### Deep Neural Networks\n",
    "##### DNN with Scikit-learn\n",
    "##### DNN with TensorFlow"
   ]
  },
  {
   "cell_type": "markdown",
   "metadata": {},
   "source": [
    "## Data retrival"
   ]
  },
  {
   "cell_type": "markdown",
   "metadata": {},
   "source": [
    "First, we must import libraries..."
   ]
  },
  {
   "cell_type": "code",
   "execution_count": 1,
   "metadata": {},
   "outputs": [],
   "source": [
    "import numpy as np\n",
    "import pandas as pd\n",
    "import datetime as dt\n",
    "from pylab import mpl, plt"
   ]
  },
  {
   "cell_type": "markdown",
   "metadata": {},
   "source": [
    "... and style our plots"
   ]
  },
  {
   "cell_type": "code",
   "execution_count": 2,
   "metadata": {},
   "outputs": [],
   "source": [
    "plt.style.use('seaborn')\n",
    "mpl.rcParams['font.family'] = 'serif'\n",
    "%matplotlib inline"
   ]
  },
  {
   "cell_type": "markdown",
   "metadata": {},
   "source": [
    "Second, we must retrive the financial data. (From Hilpisch for now)."
   ]
  },
  {
   "cell_type": "code",
   "execution_count": 3,
   "metadata": {},
   "outputs": [],
   "source": [
    "raw = pd.read_csv('http://hilpisch.com/tr_eikon_eod_data.csv',\n",
    "                  index_col=0, parse_dates=True)"
   ]
  },
  {
   "cell_type": "code",
   "execution_count": 4,
   "metadata": {
    "scrolled": true
   },
   "outputs": [
    {
     "name": "stdout",
     "output_type": "stream",
     "text": [
      "<class 'pandas.core.frame.DataFrame'>\n",
      "DatetimeIndex: 2216 entries, 2010-01-01 to 2018-06-29\n",
      "Data columns (total 12 columns):\n",
      " #   Column  Non-Null Count  Dtype  \n",
      "---  ------  --------------  -----  \n",
      " 0   AAPL.O  2138 non-null   float64\n",
      " 1   MSFT.O  2138 non-null   float64\n",
      " 2   INTC.O  2138 non-null   float64\n",
      " 3   AMZN.O  2138 non-null   float64\n",
      " 4   GS.N    2138 non-null   float64\n",
      " 5   SPY     2138 non-null   float64\n",
      " 6   .SPX    2138 non-null   float64\n",
      " 7   .VIX    2138 non-null   float64\n",
      " 8   EUR=    2216 non-null   float64\n",
      " 9   XAU=    2211 non-null   float64\n",
      " 10  GDX     2138 non-null   float64\n",
      " 11  GLD     2138 non-null   float64\n",
      "dtypes: float64(12)\n",
      "memory usage: 225.1 KB\n"
     ]
    }
   ],
   "source": [
    "raw.info()\n",
    "\n",
    "data = (pd.DataFrame(raw).dropna());\n",
    "symbols = list(raw)"
   ]
  },
  {
   "cell_type": "markdown",
   "metadata": {},
   "source": [
    "## Mean Reversion Strategy\n",
    "\n",
    "This strategy uses a short term and long term moving average. The long term moving average lags the short term moving average. When they cross over, it indicates a change in trend.\n",
    "\n",
    "When the short-term moving average rises through the long-term this indicates a bullish phase and when the short-term moving average slips below the long-term moving average this indicates a bearish phase.\n",
    "\n",
    "This strategy ignores:\n",
    "- Transactional costs\n",
    "- Portfolio composition and optimization\n",
    "    - Diversity\n",
    "    - Risky and risk-less asset composition\n",
    "    - Initial equity and leverage ratio"
   ]
  },
  {
   "cell_type": "code",
   "execution_count": 5,
   "metadata": {},
   "outputs": [],
   "source": [
    "MAs = {'2mo': 42, '12mo': 252}; # in days\n",
    "symbol = symbols[0]; \n",
    "\n",
    "for MA in MAs:\n",
    "    data[symbol+'_MA_'+MA] = data[symbol].rolling(MAs[MA]).mean()        \n",
    "data.dropna(inplace=True)"
   ]
  },
  {
   "cell_type": "code",
   "execution_count": 6,
   "metadata": {},
   "outputs": [
    {
     "data": {
      "text/html": [
       "<div>\n",
       "<style scoped>\n",
       "    .dataframe tbody tr th:only-of-type {\n",
       "        vertical-align: middle;\n",
       "    }\n",
       "\n",
       "    .dataframe tbody tr th {\n",
       "        vertical-align: top;\n",
       "    }\n",
       "\n",
       "    .dataframe thead th {\n",
       "        text-align: right;\n",
       "    }\n",
       "</style>\n",
       "<table border=\"1\" class=\"dataframe\">\n",
       "  <thead>\n",
       "    <tr style=\"text-align: right;\">\n",
       "      <th></th>\n",
       "      <th>AAPL.O</th>\n",
       "      <th>MSFT.O</th>\n",
       "      <th>INTC.O</th>\n",
       "      <th>AMZN.O</th>\n",
       "      <th>GS.N</th>\n",
       "      <th>SPY</th>\n",
       "      <th>.SPX</th>\n",
       "      <th>.VIX</th>\n",
       "      <th>EUR=</th>\n",
       "      <th>XAU=</th>\n",
       "      <th>GDX</th>\n",
       "      <th>GLD</th>\n",
       "      <th>AAPL.O_MA_2mo</th>\n",
       "      <th>AAPL.O_MA_12mo</th>\n",
       "    </tr>\n",
       "    <tr>\n",
       "      <th>Date</th>\n",
       "      <th></th>\n",
       "      <th></th>\n",
       "      <th></th>\n",
       "      <th></th>\n",
       "      <th></th>\n",
       "      <th></th>\n",
       "      <th></th>\n",
       "      <th></th>\n",
       "      <th></th>\n",
       "      <th></th>\n",
       "      <th></th>\n",
       "      <th></th>\n",
       "      <th></th>\n",
       "      <th></th>\n",
       "    </tr>\n",
       "  </thead>\n",
       "  <tbody>\n",
       "    <tr>\n",
       "      <th>2010-12-31</th>\n",
       "      <td>46.079954</td>\n",
       "      <td>27.9100</td>\n",
       "      <td>21.03</td>\n",
       "      <td>180.00</td>\n",
       "      <td>168.16</td>\n",
       "      <td>125.75</td>\n",
       "      <td>1257.64</td>\n",
       "      <td>17.75</td>\n",
       "      <td>1.3377</td>\n",
       "      <td>1419.45</td>\n",
       "      <td>61.47</td>\n",
       "      <td>138.72</td>\n",
       "      <td>45.280967</td>\n",
       "      <td>37.120735</td>\n",
       "    </tr>\n",
       "    <tr>\n",
       "      <th>2011-01-03</th>\n",
       "      <td>47.081381</td>\n",
       "      <td>27.9800</td>\n",
       "      <td>20.85</td>\n",
       "      <td>184.22</td>\n",
       "      <td>173.05</td>\n",
       "      <td>127.05</td>\n",
       "      <td>1271.87</td>\n",
       "      <td>17.61</td>\n",
       "      <td>1.3351</td>\n",
       "      <td>1413.80</td>\n",
       "      <td>60.77</td>\n",
       "      <td>138.00</td>\n",
       "      <td>45.349708</td>\n",
       "      <td>37.186246</td>\n",
       "    </tr>\n",
       "    <tr>\n",
       "      <th>2011-01-04</th>\n",
       "      <td>47.327096</td>\n",
       "      <td>28.0875</td>\n",
       "      <td>21.15</td>\n",
       "      <td>185.01</td>\n",
       "      <td>173.08</td>\n",
       "      <td>126.98</td>\n",
       "      <td>1270.20</td>\n",
       "      <td>17.38</td>\n",
       "      <td>1.3301</td>\n",
       "      <td>1380.21</td>\n",
       "      <td>59.02</td>\n",
       "      <td>134.75</td>\n",
       "      <td>45.412599</td>\n",
       "      <td>37.252521</td>\n",
       "    </tr>\n",
       "    <tr>\n",
       "      <th>2011-01-05</th>\n",
       "      <td>47.714238</td>\n",
       "      <td>28.0000</td>\n",
       "      <td>20.94</td>\n",
       "      <td>187.42</td>\n",
       "      <td>174.00</td>\n",
       "      <td>127.64</td>\n",
       "      <td>1276.56</td>\n",
       "      <td>17.02</td>\n",
       "      <td>1.3151</td>\n",
       "      <td>1376.80</td>\n",
       "      <td>58.22</td>\n",
       "      <td>134.37</td>\n",
       "      <td>45.466102</td>\n",
       "      <td>37.322266</td>\n",
       "    </tr>\n",
       "    <tr>\n",
       "      <th>2011-01-06</th>\n",
       "      <td>47.675667</td>\n",
       "      <td>28.8200</td>\n",
       "      <td>20.77</td>\n",
       "      <td>185.86</td>\n",
       "      <td>172.21</td>\n",
       "      <td>127.39</td>\n",
       "      <td>1273.85</td>\n",
       "      <td>17.40</td>\n",
       "      <td>1.3001</td>\n",
       "      <td>1371.00</td>\n",
       "      <td>56.74</td>\n",
       "      <td>133.83</td>\n",
       "      <td>45.522565</td>\n",
       "      <td>37.392079</td>\n",
       "    </tr>\n",
       "  </tbody>\n",
       "</table>\n",
       "</div>"
      ],
      "text/plain": [
       "               AAPL.O   MSFT.O  INTC.O  AMZN.O    GS.N     SPY     .SPX  \\\n",
       "Date                                                                      \n",
       "2010-12-31  46.079954  27.9100   21.03  180.00  168.16  125.75  1257.64   \n",
       "2011-01-03  47.081381  27.9800   20.85  184.22  173.05  127.05  1271.87   \n",
       "2011-01-04  47.327096  28.0875   21.15  185.01  173.08  126.98  1270.20   \n",
       "2011-01-05  47.714238  28.0000   20.94  187.42  174.00  127.64  1276.56   \n",
       "2011-01-06  47.675667  28.8200   20.77  185.86  172.21  127.39  1273.85   \n",
       "\n",
       "             .VIX    EUR=     XAU=    GDX     GLD  AAPL.O_MA_2mo  \\\n",
       "Date                                                               \n",
       "2010-12-31  17.75  1.3377  1419.45  61.47  138.72      45.280967   \n",
       "2011-01-03  17.61  1.3351  1413.80  60.77  138.00      45.349708   \n",
       "2011-01-04  17.38  1.3301  1380.21  59.02  134.75      45.412599   \n",
       "2011-01-05  17.02  1.3151  1376.80  58.22  134.37      45.466102   \n",
       "2011-01-06  17.40  1.3001  1371.00  56.74  133.83      45.522565   \n",
       "\n",
       "            AAPL.O_MA_12mo  \n",
       "Date                        \n",
       "2010-12-31       37.120735  \n",
       "2011-01-03       37.186246  \n",
       "2011-01-04       37.252521  \n",
       "2011-01-05       37.322266  \n",
       "2011-01-06       37.392079  "
      ]
     },
     "execution_count": 6,
     "metadata": {},
     "output_type": "execute_result"
    }
   ],
   "source": [
    "data.head()"
   ]
  },
  {
   "cell_type": "code",
   "execution_count": 7,
   "metadata": {},
   "outputs": [],
   "source": [
    "MA_symbols = [symbol,symbol+'_MA_'+'2mo',symbol+'_MA_12mo'];\n",
    "\n",
    "#Buy when short term moving average is > long term, sell vice versa\n",
    "data[symbol+'_Position'] = np.where(data[symbol+'_MA_'+'2mo'] > data[symbol+'_MA_'+'12mo'], 1, -1)"
   ]
  },
  {
   "cell_type": "code",
   "execution_count": 8,
   "metadata": {},
   "outputs": [
    {
     "data": {
      "text/plain": [
       "<matplotlib.collections.PolyCollection at 0x29bced16280>"
      ]
     },
     "execution_count": 8,
     "metadata": {},
     "output_type": "execute_result"
    },
    {
     "data": {
      "image/png": "[encoded data removed]",
      "text/plain": [
       "<Figure size 720x432 with 1 Axes>"
      ]
     },
     "metadata": {
      "needs_background": "light"
     },
     "output_type": "display_data"
    }
   ],
   "source": [
    "#Without position plotted\n",
    "ax = data[MA_symbols].plot(figsize=(10, 6))\n",
    "\n",
    "#With position plotted\n",
    "#ax = data.plot( secondary_y=symbol+'_Position', figsize=(10, 6))\n",
    "\n",
    "ax.get_legend().set_bbox_to_anchor((0.28, 0.95));\n",
    "\n",
    "#Shade between moving averages\n",
    "#ax.fill_between(data.index, data[symbol+'_MA_'+'2mo'].values, data[symbol+'_MA_'+'12mo'].values,\\\n",
    "#                 where=(data[symbol+'_MA_'+'2mo'].values > data[symbol+'_MA_'+'12mo'].values), color='C0', alpha=0.3)\n",
    "#ax.fill_between(data.index, data[symbol+'_MA_'+'2mo'].values, data[symbol+'_MA_'+'12mo'].values,\\\n",
    "#                 where=(data[symbol+'_MA_'+'2mo'].values < data[symbol+'_MA_'+'12mo'].values), color='C1', alpha=0.3)\n",
    "\n",
    "#Shade whole figure\n",
    "min = data[MA_symbols].min().min()\n",
    "max = data[MA_symbols].max().max()\n",
    "ax.fill_between(data.index, min, max,where=(data[symbol+'_MA_'+'2mo'].values > data[symbol+'_MA_'+'12mo'].values),\\\n",
    "                color='C0', alpha=0.3)\n",
    "ax.fill_between(data.index, min, max,where=(data[symbol+'_MA_'+'2mo'].values < data[symbol+'_MA_'+'12mo'].values),\\\n",
    "                color='C1', alpha=0.3)"
   ]
  },
  {
   "cell_type": "code",
   "execution_count": 9,
   "metadata": {},
   "outputs": [],
   "source": [
    "data[symbol+'_Returns'] = np.log(data[symbol] / data[symbol].shift(1))  "
   ]
  },
  {
   "cell_type": "code",
   "execution_count": 10,
   "metadata": {},
   "outputs": [],
   "source": [
    "data[symbol+'_Strategy'] = data[symbol+'_Position'].shift(1) * data[symbol+'_Returns']\n",
    "data.dropna(inplace=True)"
   ]
  },
  {
   "cell_type": "code",
   "execution_count": 11,
   "metadata": {},
   "outputs": [
    {
     "data": {
      "text/html": [
       "<div>\n",
       "<style scoped>\n",
       "    .dataframe tbody tr th:only-of-type {\n",
       "        vertical-align: middle;\n",
       "    }\n",
       "\n",
       "    .dataframe tbody tr th {\n",
       "        vertical-align: top;\n",
       "    }\n",
       "\n",
       "    .dataframe thead th {\n",
       "        text-align: right;\n",
       "    }\n",
       "</style>\n",
       "<table border=\"1\" class=\"dataframe\">\n",
       "  <thead>\n",
       "    <tr style=\"text-align: right;\">\n",
       "      <th></th>\n",
       "      <th>AAPL.O</th>\n",
       "      <th>MSFT.O</th>\n",
       "      <th>INTC.O</th>\n",
       "      <th>AMZN.O</th>\n",
       "      <th>GS.N</th>\n",
       "      <th>SPY</th>\n",
       "      <th>.SPX</th>\n",
       "      <th>.VIX</th>\n",
       "      <th>EUR=</th>\n",
       "      <th>XAU=</th>\n",
       "      <th>GDX</th>\n",
       "      <th>GLD</th>\n",
       "      <th>AAPL.O_MA_2mo</th>\n",
       "      <th>AAPL.O_MA_12mo</th>\n",
       "      <th>AAPL.O_Position</th>\n",
       "      <th>AAPL.O_Returns</th>\n",
       "      <th>AAPL.O_Strategy</th>\n",
       "    </tr>\n",
       "    <tr>\n",
       "      <th>Date</th>\n",
       "      <th></th>\n",
       "      <th></th>\n",
       "      <th></th>\n",
       "      <th></th>\n",
       "      <th></th>\n",
       "      <th></th>\n",
       "      <th></th>\n",
       "      <th></th>\n",
       "      <th></th>\n",
       "      <th></th>\n",
       "      <th></th>\n",
       "      <th></th>\n",
       "      <th></th>\n",
       "      <th></th>\n",
       "      <th></th>\n",
       "      <th></th>\n",
       "      <th></th>\n",
       "    </tr>\n",
       "  </thead>\n",
       "  <tbody>\n",
       "    <tr>\n",
       "      <th>2011-01-03</th>\n",
       "      <td>47.081381</td>\n",
       "      <td>27.9800</td>\n",
       "      <td>20.85</td>\n",
       "      <td>184.22</td>\n",
       "      <td>173.05</td>\n",
       "      <td>127.05</td>\n",
       "      <td>1271.87</td>\n",
       "      <td>17.61</td>\n",
       "      <td>1.3351</td>\n",
       "      <td>1413.80</td>\n",
       "      <td>60.77</td>\n",
       "      <td>138.00</td>\n",
       "      <td>45.349708</td>\n",
       "      <td>37.186246</td>\n",
       "      <td>1</td>\n",
       "      <td>0.021500</td>\n",
       "      <td>0.021500</td>\n",
       "    </tr>\n",
       "    <tr>\n",
       "      <th>2011-01-04</th>\n",
       "      <td>47.327096</td>\n",
       "      <td>28.0875</td>\n",
       "      <td>21.15</td>\n",
       "      <td>185.01</td>\n",
       "      <td>173.08</td>\n",
       "      <td>126.98</td>\n",
       "      <td>1270.20</td>\n",
       "      <td>17.38</td>\n",
       "      <td>1.3301</td>\n",
       "      <td>1380.21</td>\n",
       "      <td>59.02</td>\n",
       "      <td>134.75</td>\n",
       "      <td>45.412599</td>\n",
       "      <td>37.252521</td>\n",
       "      <td>1</td>\n",
       "      <td>0.005205</td>\n",
       "      <td>0.005205</td>\n",
       "    </tr>\n",
       "    <tr>\n",
       "      <th>2011-01-05</th>\n",
       "      <td>47.714238</td>\n",
       "      <td>28.0000</td>\n",
       "      <td>20.94</td>\n",
       "      <td>187.42</td>\n",
       "      <td>174.00</td>\n",
       "      <td>127.64</td>\n",
       "      <td>1276.56</td>\n",
       "      <td>17.02</td>\n",
       "      <td>1.3151</td>\n",
       "      <td>1376.80</td>\n",
       "      <td>58.22</td>\n",
       "      <td>134.37</td>\n",
       "      <td>45.466102</td>\n",
       "      <td>37.322266</td>\n",
       "      <td>1</td>\n",
       "      <td>0.008147</td>\n",
       "      <td>0.008147</td>\n",
       "    </tr>\n",
       "    <tr>\n",
       "      <th>2011-01-06</th>\n",
       "      <td>47.675667</td>\n",
       "      <td>28.8200</td>\n",
       "      <td>20.77</td>\n",
       "      <td>185.86</td>\n",
       "      <td>172.21</td>\n",
       "      <td>127.39</td>\n",
       "      <td>1273.85</td>\n",
       "      <td>17.40</td>\n",
       "      <td>1.3001</td>\n",
       "      <td>1371.00</td>\n",
       "      <td>56.74</td>\n",
       "      <td>133.83</td>\n",
       "      <td>45.522565</td>\n",
       "      <td>37.392079</td>\n",
       "      <td>1</td>\n",
       "      <td>-0.000809</td>\n",
       "      <td>-0.000809</td>\n",
       "    </tr>\n",
       "    <tr>\n",
       "      <th>2011-01-07</th>\n",
       "      <td>48.017095</td>\n",
       "      <td>28.6000</td>\n",
       "      <td>20.66</td>\n",
       "      <td>185.49</td>\n",
       "      <td>170.69</td>\n",
       "      <td>127.14</td>\n",
       "      <td>1271.50</td>\n",
       "      <td>17.14</td>\n",
       "      <td>1.2916</td>\n",
       "      <td>1368.60</td>\n",
       "      <td>56.74</td>\n",
       "      <td>133.58</td>\n",
       "      <td>45.582089</td>\n",
       "      <td>37.462453</td>\n",
       "      <td>1</td>\n",
       "      <td>0.007136</td>\n",
       "      <td>0.007136</td>\n",
       "    </tr>\n",
       "  </tbody>\n",
       "</table>\n",
       "</div>"
      ],
      "text/plain": [
       "               AAPL.O   MSFT.O  INTC.O  AMZN.O    GS.N     SPY     .SPX  \\\n",
       "Date                                                                      \n",
       "2011-01-03  47.081381  27.9800   20.85  184.22  173.05  127.05  1271.87   \n",
       "2011-01-04  47.327096  28.0875   21.15  185.01  173.08  126.98  1270.20   \n",
       "2011-01-05  47.714238  28.0000   20.94  187.42  174.00  127.64  1276.56   \n",
       "2011-01-06  47.675667  28.8200   20.77  185.86  172.21  127.39  1273.85   \n",
       "2011-01-07  48.017095  28.6000   20.66  185.49  170.69  127.14  1271.50   \n",
       "\n",
       "             .VIX    EUR=     XAU=    GDX     GLD  AAPL.O_MA_2mo  \\\n",
       "Date                                                               \n",
       "2011-01-03  17.61  1.3351  1413.80  60.77  138.00      45.349708   \n",
       "2011-01-04  17.38  1.3301  1380.21  59.02  134.75      45.412599   \n",
       "2011-01-05  17.02  1.3151  1376.80  58.22  134.37      45.466102   \n",
       "2011-01-06  17.40  1.3001  1371.00  56.74  133.83      45.522565   \n",
       "2011-01-07  17.14  1.2916  1368.60  56.74  133.58      45.582089   \n",
       "\n",
       "            AAPL.O_MA_12mo  AAPL.O_Position  AAPL.O_Returns  AAPL.O_Strategy  \n",
       "Date                                                                          \n",
       "2011-01-03       37.186246                1        0.021500         0.021500  \n",
       "2011-01-04       37.252521                1        0.005205         0.005205  \n",
       "2011-01-05       37.322266                1        0.008147         0.008147  \n",
       "2011-01-06       37.392079                1       -0.000809        -0.000809  \n",
       "2011-01-07       37.462453                1        0.007136         0.007136  "
      ]
     },
     "execution_count": 11,
     "metadata": {},
     "output_type": "execute_result"
    }
   ],
   "source": [
    "data.head()"
   ]
  },
  {
   "cell_type": "markdown",
   "metadata": {},
   "source": [
    "The performance of the moving average strategy for Apples stock is better than a long only strategy."
   ]
  },
  {
   "cell_type": "code",
   "execution_count": 12,
   "metadata": {},
   "outputs": [
    {
     "data": {
      "text/plain": [
       "AAPL.O_Returns     4.017148\n",
       "AAPL.O_Strategy    5.811299\n",
       "dtype: float64"
      ]
     },
     "execution_count": 12,
     "metadata": {},
     "output_type": "execute_result"
    }
   ],
   "source": [
    "np.exp(data[[symbol+'_Returns',symbol+'_Strategy']].sum())  "
   ]
  },
  {
   "cell_type": "markdown",
   "metadata": {},
   "source": [
    "#### For all symbols"
   ]
  },
  {
   "cell_type": "code",
   "execution_count": 13,
   "metadata": {},
   "outputs": [],
   "source": [
    "MeanRevResults = pd.DataFrame()\n",
    "for symbol in symbols:\n",
    "    data = pd.DataFrame(raw[symbol])\n",
    "    data.dropna(inplace=True)\n",
    "    data['Returns'] = np.log(data[symbol] / data[symbol].shift(1))\n",
    "    data['SMA1'] = data[symbol].rolling(MAs['2mo']).mean()\n",
    "    data['SMA2'] = data[symbol].rolling(MAs['12mo']).mean()\n",
    "    data.dropna(inplace=True)\n",
    "    data['Position'] = np.where(data['SMA1'] > data['SMA2'], 1, -1)\n",
    "    data['Strategy'] = data['Position'].shift(1) * data['Returns']\n",
    "    data.dropna(inplace=True)\n",
    "    perf = np.exp(data[['Returns', 'Strategy']].sum())\n",
    "    benchm = perf['Strategy'] - perf['Returns'];\n",
    "    MeanRevResults = MeanRevResults.append(pd.DataFrame(\n",
    "                {'Symbol':  symbol ,'SMA1': MAs['2mo'], 'SMA2': MAs['12mo'],\n",
    "                 'MARKET': perf['Returns'],\n",
    "                 'STRATEGY': perf['Strategy'],\n",
    "                 'BENCHMARK': benchm},\n",
    "                 index=[0]), ignore_index=True)  "
   ]
  },
  {
   "cell_type": "code",
   "execution_count": 14,
   "metadata": {
    "scrolled": false
   },
   "outputs": [
    {
     "data": {
      "text/html": [
       "<div>\n",
       "<style scoped>\n",
       "    .dataframe tbody tr th:only-of-type {\n",
       "        vertical-align: middle;\n",
       "    }\n",
       "\n",
       "    .dataframe tbody tr th {\n",
       "        vertical-align: top;\n",
       "    }\n",
       "\n",
       "    .dataframe thead th {\n",
       "        text-align: right;\n",
       "    }\n",
       "</style>\n",
       "<table border=\"1\" class=\"dataframe\">\n",
       "  <thead>\n",
       "    <tr style=\"text-align: right;\">\n",
       "      <th></th>\n",
       "      <th>Symbol</th>\n",
       "      <th>SMA1</th>\n",
       "      <th>SMA2</th>\n",
       "      <th>MARKET</th>\n",
       "      <th>STRATEGY</th>\n",
       "      <th>BENCHMARK</th>\n",
       "    </tr>\n",
       "  </thead>\n",
       "  <tbody>\n",
       "    <tr>\n",
       "      <th>0</th>\n",
       "      <td>AAPL.O</td>\n",
       "      <td>42</td>\n",
       "      <td>252</td>\n",
       "      <td>4.017148</td>\n",
       "      <td>5.811299</td>\n",
       "      <td>1.794151</td>\n",
       "    </tr>\n",
       "    <tr>\n",
       "      <th>1</th>\n",
       "      <td>MSFT.O</td>\n",
       "      <td>42</td>\n",
       "      <td>252</td>\n",
       "      <td>3.533142</td>\n",
       "      <td>0.787798</td>\n",
       "      <td>-2.745344</td>\n",
       "    </tr>\n",
       "    <tr>\n",
       "      <th>2</th>\n",
       "      <td>INTC.O</td>\n",
       "      <td>42</td>\n",
       "      <td>252</td>\n",
       "      <td>2.363766</td>\n",
       "      <td>0.549313</td>\n",
       "      <td>-1.814453</td>\n",
       "    </tr>\n",
       "    <tr>\n",
       "      <th>3</th>\n",
       "      <td>AMZN.O</td>\n",
       "      <td>42</td>\n",
       "      <td>252</td>\n",
       "      <td>9.443333</td>\n",
       "      <td>3.462586</td>\n",
       "      <td>-5.980747</td>\n",
       "    </tr>\n",
       "    <tr>\n",
       "      <th>4</th>\n",
       "      <td>GS.N</td>\n",
       "      <td>42</td>\n",
       "      <td>252</td>\n",
       "      <td>1.311667</td>\n",
       "      <td>1.200371</td>\n",
       "      <td>-0.111297</td>\n",
       "    </tr>\n",
       "    <tr>\n",
       "      <th>5</th>\n",
       "      <td>SPY</td>\n",
       "      <td>42</td>\n",
       "      <td>252</td>\n",
       "      <td>2.157296</td>\n",
       "      <td>1.296339</td>\n",
       "      <td>-0.860958</td>\n",
       "    </tr>\n",
       "    <tr>\n",
       "      <th>6</th>\n",
       "      <td>.SPX</td>\n",
       "      <td>42</td>\n",
       "      <td>252</td>\n",
       "      <td>2.161485</td>\n",
       "      <td>1.394976</td>\n",
       "      <td>-0.766509</td>\n",
       "    </tr>\n",
       "    <tr>\n",
       "      <th>7</th>\n",
       "      <td>.VIX</td>\n",
       "      <td>42</td>\n",
       "      <td>252</td>\n",
       "      <td>0.906479</td>\n",
       "      <td>0.000269</td>\n",
       "      <td>-0.906210</td>\n",
       "    </tr>\n",
       "    <tr>\n",
       "      <th>8</th>\n",
       "      <td>EUR=</td>\n",
       "      <td>42</td>\n",
       "      <td>252</td>\n",
       "      <td>0.890608</td>\n",
       "      <td>1.370496</td>\n",
       "      <td>0.479888</td>\n",
       "    </tr>\n",
       "    <tr>\n",
       "      <th>9</th>\n",
       "      <td>XAU=</td>\n",
       "      <td>42</td>\n",
       "      <td>252</td>\n",
       "      <td>0.904642</td>\n",
       "      <td>1.099720</td>\n",
       "      <td>0.195079</td>\n",
       "    </tr>\n",
       "    <tr>\n",
       "      <th>10</th>\n",
       "      <td>GDX</td>\n",
       "      <td>42</td>\n",
       "      <td>252</td>\n",
       "      <td>0.362941</td>\n",
       "      <td>0.525712</td>\n",
       "      <td>0.162770</td>\n",
       "    </tr>\n",
       "    <tr>\n",
       "      <th>11</th>\n",
       "      <td>GLD</td>\n",
       "      <td>42</td>\n",
       "      <td>252</td>\n",
       "      <td>0.855320</td>\n",
       "      <td>1.116650</td>\n",
       "      <td>0.261330</td>\n",
       "    </tr>\n",
       "  </tbody>\n",
       "</table>\n",
       "</div>"
      ],
      "text/plain": [
       "    Symbol  SMA1  SMA2    MARKET  STRATEGY  BENCHMARK\n",
       "0   AAPL.O    42   252  4.017148  5.811299   1.794151\n",
       "1   MSFT.O    42   252  3.533142  0.787798  -2.745344\n",
       "2   INTC.O    42   252  2.363766  0.549313  -1.814453\n",
       "3   AMZN.O    42   252  9.443333  3.462586  -5.980747\n",
       "4     GS.N    42   252  1.311667  1.200371  -0.111297\n",
       "5      SPY    42   252  2.157296  1.296339  -0.860958\n",
       "6     .SPX    42   252  2.161485  1.394976  -0.766509\n",
       "7     .VIX    42   252  0.906479  0.000269  -0.906210\n",
       "8     EUR=    42   252  0.890608  1.370496   0.479888\n",
       "9     XAU=    42   252  0.904642  1.099720   0.195079\n",
       "10     GDX    42   252  0.362941  0.525712   0.162770\n",
       "11     GLD    42   252  0.855320  1.116650   0.261330"
      ]
     },
     "execution_count": 14,
     "metadata": {},
     "output_type": "execute_result"
    }
   ],
   "source": [
    "MeanRevResults"
   ]
  },
  {
   "cell_type": "markdown",
   "metadata": {},
   "source": [
    "Very poor performance per unit per stock. Perhaps this can be improved through optimization"
   ]
  },
  {
   "cell_type": "code",
   "execution_count": 15,
   "metadata": {
    "scrolled": true
   },
   "outputs": [
    {
     "data": {
      "text/plain": [
       "-10.292299091699798"
      ]
     },
     "execution_count": 15,
     "metadata": {},
     "output_type": "execute_result"
    }
   ],
   "source": [
    "MeanRevResults['BENCHMARK'].sum()"
   ]
  },
  {
   "cell_type": "markdown",
   "metadata": {},
   "source": [
    "#### Optimize SMA1 and SMA2"
   ]
  },
  {
   "cell_type": "code",
   "execution_count": 16,
   "metadata": {},
   "outputs": [],
   "source": [
    "from itertools import product"
   ]
  },
  {
   "cell_type": "code",
   "execution_count": 17,
   "metadata": {},
   "outputs": [],
   "source": [
    "sma1 = range(20, 61, 4)  \n",
    "sma2 = range(180, 281, 10) "
   ]
  },
  {
   "cell_type": "code",
   "execution_count": 18,
   "metadata": {},
   "outputs": [],
   "source": [
    "results = pd.DataFrame()\n",
    "for SMA1, SMA2 in product(sma1, sma2):\n",
    "    MeanRevResults = pd.DataFrame()\n",
    "    for symbol in symbols:\n",
    "        data = pd.DataFrame(raw[symbol])\n",
    "        data.dropna(inplace=True)\n",
    "        data['Returns'] = np.log(data[symbol] / data[symbol].shift(1))\n",
    "        data['SMA1'] = data[symbol].rolling(SMA1).mean()\n",
    "        data['SMA2'] = data[symbol].rolling(SMA2).mean()\n",
    "        data.dropna(inplace=True)\n",
    "        data['Position'] = np.where(data['SMA1'] > data['SMA2'], 1, -1)\n",
    "        data['Strategy'] = data['Position'].shift(1) * data['Returns']\n",
    "        data.dropna(inplace=True)\n",
    "        perf = np.exp(data[['Returns', 'Strategy']].sum())\n",
    "        benchm = perf['Strategy'] - perf['Returns'];\n",
    "        MeanRevResults = MeanRevResults.append(pd.DataFrame(\n",
    "                    {'Symbol':  symbol ,'SMA1': SMA1, 'SMA2': SMA2,\n",
    "                     'MARKET': perf['Returns'],\n",
    "                     'STRATEGY': perf['Strategy'],\n",
    "                     'BENCHMARK': benchm},\n",
    "                     index=[0]), ignore_index=True) \n",
    "    Sum_Bench = MeanRevResults['BENCHMARK'].sum()\n",
    "    results = results.append(pd.DataFrame({'SMA1': SMA1, 'SMA2': SMA2,\n",
    "                     'SUM_BENCHMARK': Sum_Bench},\n",
    "                     index=[0]), ignore_index=True)"
   ]
  },
  {
   "cell_type": "markdown",
   "metadata": {},
   "source": [
    "Even with (brute force, global) optimization, the best strategy looses money for all stocks when considering all stocks. "
   ]
  },
  {
   "cell_type": "code",
   "execution_count": 19,
   "metadata": {
    "scrolled": true
   },
   "outputs": [
    {
     "data": {
      "text/html": [
       "<div>\n",
       "<style scoped>\n",
       "    .dataframe tbody tr th:only-of-type {\n",
       "        vertical-align: middle;\n",
       "    }\n",
       "\n",
       "    .dataframe tbody tr th {\n",
       "        vertical-align: top;\n",
       "    }\n",
       "\n",
       "    .dataframe thead th {\n",
       "        text-align: right;\n",
       "    }\n",
       "</style>\n",
       "<table border=\"1\" class=\"dataframe\">\n",
       "  <thead>\n",
       "    <tr style=\"text-align: right;\">\n",
       "      <th></th>\n",
       "      <th>SMA1</th>\n",
       "      <th>SMA2</th>\n",
       "      <th>SUM_BENCHMARK</th>\n",
       "    </tr>\n",
       "  </thead>\n",
       "  <tbody>\n",
       "    <tr>\n",
       "      <th>5</th>\n",
       "      <td>20</td>\n",
       "      <td>230</td>\n",
       "      <td>-8.070165</td>\n",
       "    </tr>\n",
       "    <tr>\n",
       "      <th>14</th>\n",
       "      <td>24</td>\n",
       "      <td>210</td>\n",
       "      <td>-8.394682</td>\n",
       "    </tr>\n",
       "    <tr>\n",
       "      <th>6</th>\n",
       "      <td>20</td>\n",
       "      <td>240</td>\n",
       "      <td>-9.160755</td>\n",
       "    </tr>\n",
       "    <tr>\n",
       "      <th>120</th>\n",
       "      <td>60</td>\n",
       "      <td>280</td>\n",
       "      <td>-9.214176</td>\n",
       "    </tr>\n",
       "    <tr>\n",
       "      <th>39</th>\n",
       "      <td>32</td>\n",
       "      <td>240</td>\n",
       "      <td>-9.348413</td>\n",
       "    </tr>\n",
       "    <tr>\n",
       "      <th>7</th>\n",
       "      <td>20</td>\n",
       "      <td>250</td>\n",
       "      <td>-9.404732</td>\n",
       "    </tr>\n",
       "    <tr>\n",
       "      <th>25</th>\n",
       "      <td>28</td>\n",
       "      <td>210</td>\n",
       "      <td>-9.471894</td>\n",
       "    </tr>\n",
       "  </tbody>\n",
       "</table>\n",
       "</div>"
      ],
      "text/plain": [
       "     SMA1  SMA2  SUM_BENCHMARK\n",
       "5      20   230      -8.070165\n",
       "14     24   210      -8.394682\n",
       "6      20   240      -9.160755\n",
       "120    60   280      -9.214176\n",
       "39     32   240      -9.348413\n",
       "7      20   250      -9.404732\n",
       "25     28   210      -9.471894"
      ]
     },
     "execution_count": 19,
     "metadata": {},
     "output_type": "execute_result"
    }
   ],
   "source": [
    "results.sort_values('SUM_BENCHMARK', ascending=False).head(7)"
   ]
  },
  {
   "cell_type": "markdown",
   "metadata": {},
   "source": [
    "Instead of using one global moving average for all signals, one can optimize on a stock by stock basis. But one should be wary of overfitting. There will be no test train split used for this mean reversion data (however, I will incorporate this later as part of the ML methods.) "
   ]
  },
  {
   "cell_type": "code",
   "execution_count": 20,
   "metadata": {},
   "outputs": [],
   "source": [
    "results = pd.DataFrame()\n",
    "for symbol in symbols:\n",
    "    MeanRevResults = pd.DataFrame()\n",
    "    for SMA1, SMA2 in product(sma1, sma2):\n",
    "        data = pd.DataFrame(raw[symbol])\n",
    "        data.dropna(inplace=True)\n",
    "        data['Returns'] = np.log(data[symbol] / data[symbol].shift(1))\n",
    "        data['SMA1'] = data[symbol].rolling(SMA1).mean()\n",
    "        data['SMA2'] = data[symbol].rolling(SMA2).mean()\n",
    "        data.dropna(inplace=True)\n",
    "        data['Position'] = np.where(data['SMA1'] > data['SMA2'], 1, -1)\n",
    "        data['Strategy'] = data['Position'].shift(1) * data['Returns']\n",
    "        data.dropna(inplace=True)\n",
    "        perf = np.exp(data[['Returns', 'Strategy']].sum())\n",
    "        benchm = perf['Strategy'] - perf['Returns'];\n",
    "        MeanRevResults = MeanRevResults.append(pd.DataFrame(\n",
    "                    {'Symbol':  symbol ,'SMA1': SMA1, 'SMA2': SMA2,\n",
    "                     'MARKET': perf['Returns'],\n",
    "                     'STRATEGY': perf['Strategy'],\n",
    "                     'BENCHMARK': benchm},\n",
    "                     index=[0]), ignore_index=True)\n",
    "    results = results.append(MeanRevResults.iloc[MeanRevResults['BENCHMARK'].idxmax()])\n",
    "results.set_index('Symbol', inplace=True)"
   ]
  },
  {
   "cell_type": "code",
   "execution_count": 21,
   "metadata": {},
   "outputs": [
    {
     "data": {
      "text/html": [
       "<div>\n",
       "<style scoped>\n",
       "    .dataframe tbody tr th:only-of-type {\n",
       "        vertical-align: middle;\n",
       "    }\n",
       "\n",
       "    .dataframe tbody tr th {\n",
       "        vertical-align: top;\n",
       "    }\n",
       "\n",
       "    .dataframe thead th {\n",
       "        text-align: right;\n",
       "    }\n",
       "</style>\n",
       "<table border=\"1\" class=\"dataframe\">\n",
       "  <thead>\n",
       "    <tr style=\"text-align: right;\">\n",
       "      <th></th>\n",
       "      <th>BENCHMARK</th>\n",
       "      <th>MARKET</th>\n",
       "      <th>SMA1</th>\n",
       "      <th>SMA2</th>\n",
       "      <th>STRATEGY</th>\n",
       "    </tr>\n",
       "    <tr>\n",
       "      <th>Symbol</th>\n",
       "      <th></th>\n",
       "      <th></th>\n",
       "      <th></th>\n",
       "      <th></th>\n",
       "      <th></th>\n",
       "    </tr>\n",
       "  </thead>\n",
       "  <tbody>\n",
       "    <tr>\n",
       "      <th>AAPL.O</th>\n",
       "      <td>2.524831</td>\n",
       "      <td>4.650342</td>\n",
       "      <td>40.0</td>\n",
       "      <td>190.0</td>\n",
       "      <td>7.175173</td>\n",
       "    </tr>\n",
       "    <tr>\n",
       "      <th>MSFT.O</th>\n",
       "      <td>-2.183891</td>\n",
       "      <td>3.415656</td>\n",
       "      <td>28.0</td>\n",
       "      <td>270.0</td>\n",
       "      <td>1.231766</td>\n",
       "    </tr>\n",
       "    <tr>\n",
       "      <th>INTC.O</th>\n",
       "      <td>-1.127020</td>\n",
       "      <td>2.285517</td>\n",
       "      <td>60.0</td>\n",
       "      <td>270.0</td>\n",
       "      <td>1.158498</td>\n",
       "    </tr>\n",
       "    <tr>\n",
       "      <th>AMZN.O</th>\n",
       "      <td>-4.157877</td>\n",
       "      <td>9.690992</td>\n",
       "      <td>20.0</td>\n",
       "      <td>230.0</td>\n",
       "      <td>5.533115</td>\n",
       "    </tr>\n",
       "    <tr>\n",
       "      <th>GS.N</th>\n",
       "      <td>1.283537</td>\n",
       "      <td>1.344693</td>\n",
       "      <td>24.0</td>\n",
       "      <td>270.0</td>\n",
       "      <td>2.628230</td>\n",
       "    </tr>\n",
       "    <tr>\n",
       "      <th>SPY</th>\n",
       "      <td>-0.461018</td>\n",
       "      <td>2.154384</td>\n",
       "      <td>20.0</td>\n",
       "      <td>250.0</td>\n",
       "      <td>1.693366</td>\n",
       "    </tr>\n",
       "    <tr>\n",
       "      <th>.SPX</th>\n",
       "      <td>-0.453935</td>\n",
       "      <td>2.157813</td>\n",
       "      <td>24.0</td>\n",
       "      <td>250.0</td>\n",
       "      <td>1.703878</td>\n",
       "    </tr>\n",
       "    <tr>\n",
       "      <th>.VIX</th>\n",
       "      <td>-0.639088</td>\n",
       "      <td>0.683808</td>\n",
       "      <td>52.0</td>\n",
       "      <td>190.0</td>\n",
       "      <td>0.044720</td>\n",
       "    </tr>\n",
       "    <tr>\n",
       "      <th>EUR=</th>\n",
       "      <td>0.565743</td>\n",
       "      <td>0.883469</td>\n",
       "      <td>48.0</td>\n",
       "      <td>240.0</td>\n",
       "      <td>1.449212</td>\n",
       "    </tr>\n",
       "    <tr>\n",
       "      <th>XAU=</th>\n",
       "      <td>0.420496</td>\n",
       "      <td>1.006956</td>\n",
       "      <td>56.0</td>\n",
       "      <td>180.0</td>\n",
       "      <td>1.427452</td>\n",
       "    </tr>\n",
       "    <tr>\n",
       "      <th>GDX</th>\n",
       "      <td>1.363807</td>\n",
       "      <td>0.401620</td>\n",
       "      <td>20.0</td>\n",
       "      <td>190.0</td>\n",
       "      <td>1.765427</td>\n",
       "    </tr>\n",
       "    <tr>\n",
       "      <th>GLD</th>\n",
       "      <td>0.373459</td>\n",
       "      <td>0.883601</td>\n",
       "      <td>40.0</td>\n",
       "      <td>200.0</td>\n",
       "      <td>1.257061</td>\n",
       "    </tr>\n",
       "  </tbody>\n",
       "</table>\n",
       "</div>"
      ],
      "text/plain": [
       "        BENCHMARK    MARKET  SMA1   SMA2  STRATEGY\n",
       "Symbol                                            \n",
       "AAPL.O   2.524831  4.650342  40.0  190.0  7.175173\n",
       "MSFT.O  -2.183891  3.415656  28.0  270.0  1.231766\n",
       "INTC.O  -1.127020  2.285517  60.0  270.0  1.158498\n",
       "AMZN.O  -4.157877  9.690992  20.0  230.0  5.533115\n",
       "GS.N     1.283537  1.344693  24.0  270.0  2.628230\n",
       "SPY     -0.461018  2.154384  20.0  250.0  1.693366\n",
       ".SPX    -0.453935  2.157813  24.0  250.0  1.703878\n",
       ".VIX    -0.639088  0.683808  52.0  190.0  0.044720\n",
       "EUR=     0.565743  0.883469  48.0  240.0  1.449212\n",
       "XAU=     0.420496  1.006956  56.0  180.0  1.427452\n",
       "GDX      1.363807  0.401620  20.0  190.0  1.765427\n",
       "GLD      0.373459  0.883601  40.0  200.0  1.257061"
      ]
     },
     "execution_count": 21,
     "metadata": {},
     "output_type": "execute_result"
    }
   ],
   "source": [
    "results"
   ]
  },
  {
   "cell_type": "markdown",
   "metadata": {},
   "source": [
    "Even if one were to use different moving averages for each stock, the returns are still unsatifactory compared to the benchmark."
   ]
  },
  {
   "cell_type": "code",
   "execution_count": 22,
   "metadata": {
    "scrolled": true
   },
   "outputs": [
    {
     "data": {
      "text/plain": [
       "-2.4909558989512237"
      ]
     },
     "execution_count": 22,
     "metadata": {},
     "output_type": "execute_result"
    }
   ],
   "source": [
    "results['BENCHMARK'].sum()"
   ]
  },
  {
   "cell_type": "markdown",
   "metadata": {},
   "source": [
    "Reset the data"
   ]
  },
  {
   "cell_type": "code",
   "execution_count": 23,
   "metadata": {
    "scrolled": true
   },
   "outputs": [
    {
     "name": "stdout",
     "output_type": "stream",
     "text": [
      "Once deleted, variables cannot be recovered. Proceed (y/[n])? y\n"
     ]
    }
   ],
   "source": [
    "%reset"
   ]
  },
  {
   "cell_type": "code",
   "execution_count": 24,
   "metadata": {},
   "outputs": [],
   "source": [
    "import numpy as np\n",
    "import pandas as pd\n",
    "import datetime as dt\n",
    "from pylab import mpl, plt\n",
    "import warnings"
   ]
  },
  {
   "cell_type": "code",
   "execution_count": 25,
   "metadata": {},
   "outputs": [],
   "source": [
    "warnings.simplefilter('ignore')\n",
    "plt.style.use('seaborn')\n",
    "mpl.rcParams['font.family'] = 'serif'\n",
    "np.random.seed(1000)\n",
    "%matplotlib inline"
   ]
  },
  {
   "cell_type": "code",
   "execution_count": 26,
   "metadata": {},
   "outputs": [],
   "source": [
    "raw = pd.read_csv('http://hilpisch.com/tr_eikon_eod_data.csv',\n",
    "                  index_col=0, parse_dates=True)\n",
    "symbol = 'EUR='\n",
    "\n",
    "data = pd.DataFrame(raw[symbol])\n",
    "\n",
    "data['returns'] = np.log(data/ data.shift(1))\n",
    "\n",
    "data.dropna(inplace=True)"
   ]
  },
  {
   "cell_type": "markdown",
   "metadata": {},
   "source": [
    "If returns are > 0 then direction is 1 (or up). If returns are < 0 then direction is -1 (or down)"
   ]
  },
  {
   "cell_type": "code",
   "execution_count": 27,
   "metadata": {},
   "outputs": [
    {
     "data": {
      "text/html": [
       "<div>\n",
       "<style scoped>\n",
       "    .dataframe tbody tr th:only-of-type {\n",
       "        vertical-align: middle;\n",
       "    }\n",
       "\n",
       "    .dataframe tbody tr th {\n",
       "        vertical-align: top;\n",
       "    }\n",
       "\n",
       "    .dataframe thead th {\n",
       "        text-align: right;\n",
       "    }\n",
       "</style>\n",
       "<table border=\"1\" class=\"dataframe\">\n",
       "  <thead>\n",
       "    <tr style=\"text-align: right;\">\n",
       "      <th></th>\n",
       "      <th>EUR=</th>\n",
       "      <th>returns</th>\n",
       "      <th>direction</th>\n",
       "    </tr>\n",
       "    <tr>\n",
       "      <th>Date</th>\n",
       "      <th></th>\n",
       "      <th></th>\n",
       "      <th></th>\n",
       "    </tr>\n",
       "  </thead>\n",
       "  <tbody>\n",
       "    <tr>\n",
       "      <th>2010-01-04</th>\n",
       "      <td>1.4411</td>\n",
       "      <td>0.006125</td>\n",
       "      <td>1</td>\n",
       "    </tr>\n",
       "    <tr>\n",
       "      <th>2010-01-05</th>\n",
       "      <td>1.4368</td>\n",
       "      <td>-0.002988</td>\n",
       "      <td>-1</td>\n",
       "    </tr>\n",
       "    <tr>\n",
       "      <th>2010-01-06</th>\n",
       "      <td>1.4412</td>\n",
       "      <td>0.003058</td>\n",
       "      <td>1</td>\n",
       "    </tr>\n",
       "    <tr>\n",
       "      <th>2010-01-07</th>\n",
       "      <td>1.4318</td>\n",
       "      <td>-0.006544</td>\n",
       "      <td>-1</td>\n",
       "    </tr>\n",
       "    <tr>\n",
       "      <th>2010-01-08</th>\n",
       "      <td>1.4412</td>\n",
       "      <td>0.006544</td>\n",
       "      <td>1</td>\n",
       "    </tr>\n",
       "  </tbody>\n",
       "</table>\n",
       "</div>"
      ],
      "text/plain": [
       "              EUR=   returns  direction\n",
       "Date                                   \n",
       "2010-01-04  1.4411  0.006125          1\n",
       "2010-01-05  1.4368 -0.002988         -1\n",
       "2010-01-06  1.4412  0.003058          1\n",
       "2010-01-07  1.4318 -0.006544         -1\n",
       "2010-01-08  1.4412  0.006544          1"
      ]
     },
     "execution_count": 27,
     "metadata": {},
     "output_type": "execute_result"
    }
   ],
   "source": [
    "data['direction'] = np.sign(data['returns']).astype(int)\n",
    "\n",
    "data.head()"
   ]
  },
  {
   "cell_type": "code",
   "execution_count": 28,
   "metadata": {},
   "outputs": [],
   "source": [
    "lags = 2"
   ]
  },
  {
   "cell_type": "code",
   "execution_count": 29,
   "metadata": {},
   "outputs": [],
   "source": [
    "def create_lags(data):\n",
    "    global cols\n",
    "    cols = []\n",
    "    for lag in range(1, lags + 1):\n",
    "        col = 'lag_{}'.format(lag)\n",
    "        data[col] = data['returns'].shift(lag)\n",
    "        cols.append(col)"
   ]
  },
  {
   "cell_type": "code",
   "execution_count": 30,
   "metadata": {},
   "outputs": [],
   "source": [
    "create_lags(data)"
   ]
  },
  {
   "cell_type": "code",
   "execution_count": 31,
   "metadata": {},
   "outputs": [
    {
     "data": {
      "text/html": [
       "<div>\n",
       "<style scoped>\n",
       "    .dataframe tbody tr th:only-of-type {\n",
       "        vertical-align: middle;\n",
       "    }\n",
       "\n",
       "    .dataframe tbody tr th {\n",
       "        vertical-align: top;\n",
       "    }\n",
       "\n",
       "    .dataframe thead th {\n",
       "        text-align: right;\n",
       "    }\n",
       "</style>\n",
       "<table border=\"1\" class=\"dataframe\">\n",
       "  <thead>\n",
       "    <tr style=\"text-align: right;\">\n",
       "      <th></th>\n",
       "      <th>EUR=</th>\n",
       "      <th>returns</th>\n",
       "      <th>direction</th>\n",
       "      <th>lag_1</th>\n",
       "      <th>lag_2</th>\n",
       "    </tr>\n",
       "    <tr>\n",
       "      <th>Date</th>\n",
       "      <th></th>\n",
       "      <th></th>\n",
       "      <th></th>\n",
       "      <th></th>\n",
       "      <th></th>\n",
       "    </tr>\n",
       "  </thead>\n",
       "  <tbody>\n",
       "    <tr>\n",
       "      <th>2010-01-06</th>\n",
       "      <td>1.4412</td>\n",
       "      <td>0.003058</td>\n",
       "      <td>1</td>\n",
       "      <td>-0.002988</td>\n",
       "      <td>0.006125</td>\n",
       "    </tr>\n",
       "    <tr>\n",
       "      <th>2010-01-07</th>\n",
       "      <td>1.4318</td>\n",
       "      <td>-0.006544</td>\n",
       "      <td>-1</td>\n",
       "      <td>0.003058</td>\n",
       "      <td>-0.002988</td>\n",
       "    </tr>\n",
       "    <tr>\n",
       "      <th>2010-01-08</th>\n",
       "      <td>1.4412</td>\n",
       "      <td>0.006544</td>\n",
       "      <td>1</td>\n",
       "      <td>-0.006544</td>\n",
       "      <td>0.003058</td>\n",
       "    </tr>\n",
       "    <tr>\n",
       "      <th>2010-01-11</th>\n",
       "      <td>1.4513</td>\n",
       "      <td>0.006984</td>\n",
       "      <td>1</td>\n",
       "      <td>0.006544</td>\n",
       "      <td>-0.006544</td>\n",
       "    </tr>\n",
       "    <tr>\n",
       "      <th>2010-01-12</th>\n",
       "      <td>1.4494</td>\n",
       "      <td>-0.001310</td>\n",
       "      <td>-1</td>\n",
       "      <td>0.006984</td>\n",
       "      <td>0.006544</td>\n",
       "    </tr>\n",
       "  </tbody>\n",
       "</table>\n",
       "</div>"
      ],
      "text/plain": [
       "              EUR=   returns  direction     lag_1     lag_2\n",
       "Date                                                       \n",
       "2010-01-06  1.4412  0.003058          1 -0.002988  0.006125\n",
       "2010-01-07  1.4318 -0.006544         -1  0.003058 -0.002988\n",
       "2010-01-08  1.4412  0.006544          1 -0.006544  0.003058\n",
       "2010-01-11  1.4513  0.006984          1  0.006544 -0.006544\n",
       "2010-01-12  1.4494 -0.001310         -1  0.006984  0.006544"
      ]
     },
     "execution_count": 31,
     "metadata": {},
     "output_type": "execute_result"
    }
   ],
   "source": [
    "data.dropna(inplace=True)\n",
    "data.head()"
   ]
  },
  {
   "cell_type": "markdown",
   "metadata": {},
   "source": [
    "### Frequency Approach"
   ]
  },
  {
   "cell_type": "code",
   "execution_count": 32,
   "metadata": {},
   "outputs": [],
   "source": [
    "def create_bins(data, bins=[0]):\n",
    "    global cols_bin\n",
    "    cols_bin = []\n",
    "    for col in cols:\n",
    "        col_bin = col + '_bin'\n",
    "        data[col_bin] = np.digitize(data[col], bins=bins)  \n",
    "        cols_bin.append(col_bin)"
   ]
  },
  {
   "cell_type": "code",
   "execution_count": 33,
   "metadata": {},
   "outputs": [],
   "source": [
    "create_bins(data)"
   ]
  },
  {
   "cell_type": "code",
   "execution_count": 34,
   "metadata": {
    "scrolled": true
   },
   "outputs": [
    {
     "data": {
      "text/html": [
       "<div>\n",
       "<style scoped>\n",
       "    .dataframe tbody tr th:only-of-type {\n",
       "        vertical-align: middle;\n",
       "    }\n",
       "\n",
       "    .dataframe tbody tr th {\n",
       "        vertical-align: top;\n",
       "    }\n",
       "\n",
       "    .dataframe thead th {\n",
       "        text-align: right;\n",
       "    }\n",
       "</style>\n",
       "<table border=\"1\" class=\"dataframe\">\n",
       "  <thead>\n",
       "    <tr style=\"text-align: right;\">\n",
       "      <th></th>\n",
       "      <th>lag_1_bin</th>\n",
       "      <th>lag_2_bin</th>\n",
       "      <th>direction</th>\n",
       "    </tr>\n",
       "    <tr>\n",
       "      <th>Date</th>\n",
       "      <th></th>\n",
       "      <th></th>\n",
       "      <th></th>\n",
       "    </tr>\n",
       "  </thead>\n",
       "  <tbody>\n",
       "    <tr>\n",
       "      <th>2010-01-06</th>\n",
       "      <td>0</td>\n",
       "      <td>1</td>\n",
       "      <td>1</td>\n",
       "    </tr>\n",
       "    <tr>\n",
       "      <th>2010-01-07</th>\n",
       "      <td>1</td>\n",
       "      <td>0</td>\n",
       "      <td>-1</td>\n",
       "    </tr>\n",
       "    <tr>\n",
       "      <th>2010-01-08</th>\n",
       "      <td>0</td>\n",
       "      <td>1</td>\n",
       "      <td>1</td>\n",
       "    </tr>\n",
       "    <tr>\n",
       "      <th>2010-01-11</th>\n",
       "      <td>1</td>\n",
       "      <td>0</td>\n",
       "      <td>1</td>\n",
       "    </tr>\n",
       "    <tr>\n",
       "      <th>2010-01-12</th>\n",
       "      <td>1</td>\n",
       "      <td>1</td>\n",
       "      <td>-1</td>\n",
       "    </tr>\n",
       "  </tbody>\n",
       "</table>\n",
       "</div>"
      ],
      "text/plain": [
       "            lag_1_bin  lag_2_bin  direction\n",
       "Date                                       \n",
       "2010-01-06          0          1          1\n",
       "2010-01-07          1          0         -1\n",
       "2010-01-08          0          1          1\n",
       "2010-01-11          1          0          1\n",
       "2010-01-12          1          1         -1"
      ]
     },
     "execution_count": 34,
     "metadata": {},
     "output_type": "execute_result"
    }
   ],
   "source": [
    "data[cols_bin + ['direction']].head()"
   ]
  },
  {
   "cell_type": "markdown",
   "metadata": {},
   "source": [
    "Frequency of possible movements dependant on the features set"
   ]
  },
  {
   "cell_type": "code",
   "execution_count": 35,
   "metadata": {
    "scrolled": true
   },
   "outputs": [
    {
     "data": {
      "text/plain": [
       "lag_1_bin  lag_2_bin  direction\n",
       "0          0          -1           237\n",
       "                       0             4\n",
       "                       1           276\n",
       "           1          -1           280\n",
       "                       0             1\n",
       "                       1           295\n",
       "1          0          -1           287\n",
       "                       0             1\n",
       "                       1           288\n",
       "           1          -1           288\n",
       "                       0             5\n",
       "                       1           251\n",
       "dtype: int64"
      ]
     },
     "execution_count": 35,
     "metadata": {},
     "output_type": "execute_result"
    }
   ],
   "source": [
    "grouped = data.groupby(cols_bin + ['direction'])\n",
    "grouped.size()"
   ]
  },
  {
   "cell_type": "code",
   "execution_count": 36,
   "metadata": {},
   "outputs": [],
   "source": [
    "res = grouped['direction'].size().unstack(fill_value=0) # puts frequencies as column"
   ]
  },
  {
   "cell_type": "code",
   "execution_count": 37,
   "metadata": {},
   "outputs": [],
   "source": [
    "def highlight_max(s):\n",
    "    is_max = s == s.max()\n",
    "    return ['background-color: yellow' if v else '' for v in is_max]  "
   ]
  },
  {
   "cell_type": "code",
   "execution_count": 38,
   "metadata": {},
   "outputs": [
    {
     "data": {
      "text/html": [
       "<style  type=\"text/css\" >\n",
       "#T_39682_row0_col2,#T_39682_row1_col2,#T_39682_row2_col2,#T_39682_row3_col0{\n",
       "            background-color:  yellow;\n",
       "        }</style><table id=\"T_39682_\" ><thead>    <tr>        <th class=\"blank\" ></th>        <th class=\"index_name level0\" >direction</th>        <th class=\"col_heading level0 col0\" >-1</th>        <th class=\"col_heading level0 col1\" >0</th>        <th class=\"col_heading level0 col2\" >1</th>    </tr>    <tr>        <th class=\"index_name level0\" >lag_1_bin</th>        <th class=\"index_name level1\" >lag_2_bin</th>        <th class=\"blank\" ></th>        <th class=\"blank\" ></th>        <th class=\"blank\" ></th>    </tr></thead><tbody>\n",
       "                <tr>\n",
       "                        <th id=\"T_39682_level0_row0\" class=\"row_heading level0 row0\" rowspan=\"2\">0</th>\n",
       "                        <th id=\"T_39682_level1_row0\" class=\"row_heading level1 row0\" >0</th>\n",
       "                        <td id=\"T_39682_row0_col0\" class=\"data row0 col0\" >237</td>\n",
       "                        <td id=\"T_39682_row0_col1\" class=\"data row0 col1\" >4</td>\n",
       "                        <td id=\"T_39682_row0_col2\" class=\"data row0 col2\" >276</td>\n",
       "            </tr>\n",
       "            <tr>\n",
       "                                <th id=\"T_39682_level1_row1\" class=\"row_heading level1 row1\" >1</th>\n",
       "                        <td id=\"T_39682_row1_col0\" class=\"data row1 col0\" >280</td>\n",
       "                        <td id=\"T_39682_row1_col1\" class=\"data row1 col1\" >1</td>\n",
       "                        <td id=\"T_39682_row1_col2\" class=\"data row1 col2\" >295</td>\n",
       "            </tr>\n",
       "            <tr>\n",
       "                        <th id=\"T_39682_level0_row2\" class=\"row_heading level0 row2\" rowspan=\"2\">1</th>\n",
       "                        <th id=\"T_39682_level1_row2\" class=\"row_heading level1 row2\" >0</th>\n",
       "                        <td id=\"T_39682_row2_col0\" class=\"data row2 col0\" >287</td>\n",
       "                        <td id=\"T_39682_row2_col1\" class=\"data row2 col1\" >1</td>\n",
       "                        <td id=\"T_39682_row2_col2\" class=\"data row2 col2\" >288</td>\n",
       "            </tr>\n",
       "            <tr>\n",
       "                                <th id=\"T_39682_level1_row3\" class=\"row_heading level1 row3\" >1</th>\n",
       "                        <td id=\"T_39682_row3_col0\" class=\"data row3 col0\" >288</td>\n",
       "                        <td id=\"T_39682_row3_col1\" class=\"data row3 col1\" >5</td>\n",
       "                        <td id=\"T_39682_row3_col2\" class=\"data row3 col2\" >251</td>\n",
       "            </tr>\n",
       "    </tbody></table>"
      ],
      "text/plain": [
       "<pandas.io.formats.style.Styler at 0x29bcece3df0>"
      ]
     },
     "execution_count": 38,
     "metadata": {},
     "output_type": "execute_result"
    }
   ],
   "source": [
    "res.style.apply(highlight_max, axis=1) "
   ]
  },
  {
   "cell_type": "markdown",
   "metadata": {},
   "source": [
    "When lag_1_bin =1 and lag_2_bin = 1 (has had two periods of positive return), assume next period's direction is negative otherwise assume it will have positive return. This is just one condition based off the frequency data in ln 60. One must be careful as this technique is incredibly overfitted."
   ]
  },
  {
   "cell_type": "code",
   "execution_count": 39,
   "metadata": {},
   "outputs": [],
   "source": [
    "data['pos_freq'] = np.where(data[cols_bin].sum(axis=1) ==2, -1, 1) "
   ]
  },
  {
   "cell_type": "markdown",
   "metadata": {},
   "source": [
    "The strategy above is correct more often than not (ie true > false)"
   ]
  },
  {
   "cell_type": "code",
   "execution_count": 40,
   "metadata": {
    "scrolled": true
   },
   "outputs": [
    {
     "data": {
      "text/plain": [
       "True     1147\n",
       "False    1066\n",
       "dtype: int64"
      ]
     },
     "execution_count": 40,
     "metadata": {},
     "output_type": "execute_result"
    }
   ],
   "source": [
    "(data['direction'] == data['pos_freq']).value_counts()"
   ]
  },
  {
   "cell_type": "markdown",
   "metadata": {},
   "source": [
    "Now weights the correct guesses by the returns in these periods"
   ]
  },
  {
   "cell_type": "code",
   "execution_count": 41,
   "metadata": {},
   "outputs": [],
   "source": [
    "data['strat_freq'] = data['pos_freq'] *data['returns']"
   ]
  },
  {
   "cell_type": "markdown",
   "metadata": {},
   "source": [
    "The frequency strategy outperforms the long only strategy."
   ]
  },
  {
   "cell_type": "code",
   "execution_count": 42,
   "metadata": {
    "scrolled": true
   },
   "outputs": [
    {
     "data": {
      "text/plain": [
       "returns       0.813126\n",
       "strat_freq    1.016673\n",
       "dtype: float64"
      ]
     },
     "execution_count": 42,
     "metadata": {},
     "output_type": "execute_result"
    }
   ],
   "source": [
    "data[['returns', 'strat_freq']].sum().apply(np.exp)"
   ]
  },
  {
   "cell_type": "code",
   "execution_count": 43,
   "metadata": {
    "scrolled": false
   },
   "outputs": [
    {
     "data": {
      "text/plain": [
       "<AxesSubplot:xlabel='Date'>"
      ]
     },
     "execution_count": 43,
     "metadata": {},
     "output_type": "execute_result"
    },
    {
     "data": {
      "image/png": "[encoded data removed]",
      "text/plain": [
       "<Figure size 720x432 with 1 Axes>"
      ]
     },
     "metadata": {
      "needs_background": "light"
     },
     "output_type": "display_data"
    }
   ],
   "source": [
    "data[['returns','strat_freq']].cumsum().apply(np.exp).plot(figsize=(10,6))"
   ]
  },
  {
   "cell_type": "markdown",
   "metadata": {},
   "source": [
    "## Machine Learning Classification"
   ]
  },
  {
   "cell_type": "markdown",
   "metadata": {},
   "source": [
    "### Two Binary Features"
   ]
  },
  {
   "cell_type": "code",
   "execution_count": 44,
   "metadata": {},
   "outputs": [],
   "source": [
    "#import models\n",
    "from sklearn import linear_model\n",
    "from sklearn.naive_bayes import GaussianNB\n",
    "from sklearn.svm import SVC #support vector machine"
   ]
  },
  {
   "cell_type": "code",
   "execution_count": 45,
   "metadata": {},
   "outputs": [],
   "source": [
    "C=1\n",
    "#instantiate models\n",
    "models = {\n",
    "    'log_reg': linear_model.LogisticRegression(C=C),\n",
    "    'gauss_nb': GaussianNB(),\n",
    "    'svm': SVC(C=C)\n",
    "}"
   ]
  },
  {
   "cell_type": "code",
   "execution_count": 46,
   "metadata": {},
   "outputs": [],
   "source": [
    "#fit models\n",
    "def fit_models(data):  \n",
    "    mfit = {model: models[model].fit(data[cols_bin], data['direction'])\n",
    "            for model in models.keys()} "
   ]
  },
  {
   "cell_type": "code",
   "execution_count": 47,
   "metadata": {
    "scrolled": true
   },
   "outputs": [],
   "source": [
    "fit_models(data)"
   ]
  },
  {
   "cell_type": "code",
   "execution_count": 48,
   "metadata": {},
   "outputs": [],
   "source": [
    "# predict\n",
    "def derive_positions(data):  \n",
    "    for model in models.keys():\n",
    "        data['pos_' + model] = models[model].predict(data[cols_bin])"
   ]
  },
  {
   "cell_type": "code",
   "execution_count": 49,
   "metadata": {},
   "outputs": [],
   "source": [
    "derive_positions(data)"
   ]
  },
  {
   "cell_type": "code",
   "execution_count": 50,
   "metadata": {},
   "outputs": [],
   "source": [
    "def evaluate_strats(data):  \n",
    "    global sel\n",
    "    sel = []\n",
    "    for model in models.keys():\n",
    "        col = 'strat_' + model \n",
    "        data[col] = data['pos_' + model] * data['returns']\n",
    "        sel.append(col)\n",
    "    sel.insert(0, 'returns')"
   ]
  },
  {
   "cell_type": "code",
   "execution_count": 51,
   "metadata": {},
   "outputs": [],
   "source": [
    "evaluate_strats(data)"
   ]
  },
  {
   "cell_type": "code",
   "execution_count": 52,
   "metadata": {},
   "outputs": [],
   "source": [
    "sel.insert(1, 'strat_freq') # inserts strat freq from  before"
   ]
  },
  {
   "cell_type": "markdown",
   "metadata": {},
   "source": [
    "LOG REG and Gaussian Naive Bayes perform roughly the same and well."
   ]
  },
  {
   "cell_type": "code",
   "execution_count": 53,
   "metadata": {
    "scrolled": true
   },
   "outputs": [
    {
     "data": {
      "text/plain": [
       "returns           0.813126\n",
       "strat_freq        1.016673\n",
       "strat_log_reg     1.385460\n",
       "strat_gauss_nb    1.385460\n",
       "strat_svm         1.016673\n",
       "dtype: float64"
      ]
     },
     "execution_count": 53,
     "metadata": {},
     "output_type": "execute_result"
    }
   ],
   "source": [
    "data[sel].sum().apply(np.exp)  "
   ]
  },
  {
   "cell_type": "code",
   "execution_count": 54,
   "metadata": {},
   "outputs": [
    {
     "data": {
      "image/png": "[encoded data removed]",
      "text/plain": [
       "<Figure size 720x432 with 1 Axes>"
      ]
     },
     "metadata": {
      "needs_background": "light"
     },
     "output_type": "display_data"
    }
   ],
   "source": [
    "data[sel].cumsum().apply(np.exp).plot(figsize=(10, 6));\n",
    "# plt.savefig('../../images/ch15/strat_ml_07.png')"
   ]
  },
  {
   "cell_type": "markdown",
   "metadata": {},
   "source": [
    "### Five Binary Features"
   ]
  },
  {
   "cell_type": "markdown",
   "metadata": {},
   "source": [
    "Increasing the number of binary features increases the data input to the model so that the ML models are better informed. This should improve their prediction accuracy."
   ]
  },
  {
   "cell_type": "code",
   "execution_count": 55,
   "metadata": {},
   "outputs": [],
   "source": [
    "#Reassign data\n",
    "data = pd.DataFrame(raw[symbol])\n",
    "data['returns'] = np.log(data / data.shift(1))\n",
    "data['direction'] = np.sign(data['returns'])"
   ]
  },
  {
   "cell_type": "code",
   "execution_count": 56,
   "metadata": {},
   "outputs": [],
   "source": [
    "#Increase the number of lags\n",
    "lags = 5 \n",
    "create_lags(data)\n",
    "data.dropna(inplace=True)\n",
    "create_bins(data)"
   ]
  },
  {
   "cell_type": "code",
   "execution_count": 57,
   "metadata": {
    "scrolled": true
   },
   "outputs": [
    {
     "data": {
      "text/html": [
       "<div>\n",
       "<style scoped>\n",
       "    .dataframe tbody tr th:only-of-type {\n",
       "        vertical-align: middle;\n",
       "    }\n",
       "\n",
       "    .dataframe tbody tr th {\n",
       "        vertical-align: top;\n",
       "    }\n",
       "\n",
       "    .dataframe thead th {\n",
       "        text-align: right;\n",
       "    }\n",
       "</style>\n",
       "<table border=\"1\" class=\"dataframe\">\n",
       "  <thead>\n",
       "    <tr style=\"text-align: right;\">\n",
       "      <th></th>\n",
       "      <th>lag_1_bin</th>\n",
       "      <th>lag_2_bin</th>\n",
       "      <th>lag_3_bin</th>\n",
       "      <th>lag_4_bin</th>\n",
       "      <th>lag_5_bin</th>\n",
       "    </tr>\n",
       "    <tr>\n",
       "      <th>Date</th>\n",
       "      <th></th>\n",
       "      <th></th>\n",
       "      <th></th>\n",
       "      <th></th>\n",
       "      <th></th>\n",
       "    </tr>\n",
       "  </thead>\n",
       "  <tbody>\n",
       "    <tr>\n",
       "      <th>2010-01-11</th>\n",
       "      <td>1</td>\n",
       "      <td>0</td>\n",
       "      <td>1</td>\n",
       "      <td>0</td>\n",
       "      <td>1</td>\n",
       "    </tr>\n",
       "    <tr>\n",
       "      <th>2010-01-12</th>\n",
       "      <td>1</td>\n",
       "      <td>1</td>\n",
       "      <td>0</td>\n",
       "      <td>1</td>\n",
       "      <td>0</td>\n",
       "    </tr>\n",
       "    <tr>\n",
       "      <th>2010-01-13</th>\n",
       "      <td>0</td>\n",
       "      <td>1</td>\n",
       "      <td>1</td>\n",
       "      <td>0</td>\n",
       "      <td>1</td>\n",
       "    </tr>\n",
       "    <tr>\n",
       "      <th>2010-01-14</th>\n",
       "      <td>1</td>\n",
       "      <td>0</td>\n",
       "      <td>1</td>\n",
       "      <td>1</td>\n",
       "      <td>0</td>\n",
       "    </tr>\n",
       "    <tr>\n",
       "      <th>2010-01-15</th>\n",
       "      <td>0</td>\n",
       "      <td>1</td>\n",
       "      <td>0</td>\n",
       "      <td>1</td>\n",
       "      <td>1</td>\n",
       "    </tr>\n",
       "  </tbody>\n",
       "</table>\n",
       "</div>"
      ],
      "text/plain": [
       "            lag_1_bin  lag_2_bin  lag_3_bin  lag_4_bin  lag_5_bin\n",
       "Date                                                             \n",
       "2010-01-11          1          0          1          0          1\n",
       "2010-01-12          1          1          0          1          0\n",
       "2010-01-13          0          1          1          0          1\n",
       "2010-01-14          1          0          1          1          0\n",
       "2010-01-15          0          1          0          1          1"
      ]
     },
     "execution_count": 57,
     "metadata": {},
     "output_type": "execute_result"
    }
   ],
   "source": [
    "data.dropna(inplace=True)\n",
    "data[cols_bin].head()"
   ]
  },
  {
   "cell_type": "code",
   "execution_count": 58,
   "metadata": {},
   "outputs": [],
   "source": [
    "fit_models(data)"
   ]
  },
  {
   "cell_type": "code",
   "execution_count": 59,
   "metadata": {},
   "outputs": [],
   "source": [
    "derive_positions(data)"
   ]
  },
  {
   "cell_type": "code",
   "execution_count": 60,
   "metadata": {},
   "outputs": [],
   "source": [
    "evaluate_strats(data)"
   ]
  },
  {
   "cell_type": "code",
   "execution_count": 61,
   "metadata": {
    "scrolled": true
   },
   "outputs": [
    {
     "data": {
      "text/plain": [
       "returns           0.810644\n",
       "strat_log_reg     1.191997\n",
       "strat_gauss_nb    1.191997\n",
       "strat_svm         2.364393\n",
       "dtype: float64"
      ]
     },
     "execution_count": 61,
     "metadata": {},
     "output_type": "execute_result"
    }
   ],
   "source": [
    "data[sel].sum().apply(np.exp)"
   ]
  },
  {
   "cell_type": "code",
   "execution_count": 62,
   "metadata": {
    "scrolled": false
   },
   "outputs": [
    {
     "data": {
      "text/plain": [
       "<AxesSubplot:xlabel='Date'>"
      ]
     },
     "execution_count": 62,
     "metadata": {},
     "output_type": "execute_result"
    },
    {
     "data": {
      "image/png": "[encoded data removed]",
      "text/plain": [
       "<Figure size 720x432 with 1 Axes>"
      ]
     },
     "metadata": {
      "needs_background": "light"
     },
     "output_type": "display_data"
    }
   ],
   "source": [
    "data[sel].cumsum().apply(np.exp).plot(figsize=(10,6))"
   ]
  },
  {
   "cell_type": "markdown",
   "metadata": {},
   "source": [
    "### Five Digitized Features"
   ]
  },
  {
   "cell_type": "markdown",
   "metadata": {},
   "source": [
    "Instread of just +ve (1) and -ve (-1) movements. Why not quantify the features into discrete boxes depening on HOW +ve or -ve a movement is? This makes the model more quantitative.\n",
    "\n",
    "The features are digitized based on the standard deviation of the signal. This should be noted when considering if the model is over fit or not. "
   ]
  },
  {
   "cell_type": "code",
   "execution_count": 63,
   "metadata": {},
   "outputs": [
    {
     "data": {
      "text/plain": [
       "[-0.005924269398870448, -9.498932088272987e-05, 0.005734290757104988]"
      ]
     },
     "execution_count": 63,
     "metadata": {},
     "output_type": "execute_result"
    }
   ],
   "source": [
    "mu = data['returns'].mean()  \n",
    "v = data['returns'].std() \n",
    "bins = [mu - v, mu, mu + v]  \n",
    "bins "
   ]
  },
  {
   "cell_type": "code",
   "execution_count": 64,
   "metadata": {},
   "outputs": [],
   "source": [
    "create_bins(data, bins)"
   ]
  },
  {
   "cell_type": "code",
   "execution_count": 65,
   "metadata": {},
   "outputs": [
    {
     "data": {
      "text/html": [
       "<div>\n",
       "<style scoped>\n",
       "    .dataframe tbody tr th:only-of-type {\n",
       "        vertical-align: middle;\n",
       "    }\n",
       "\n",
       "    .dataframe tbody tr th {\n",
       "        vertical-align: top;\n",
       "    }\n",
       "\n",
       "    .dataframe thead th {\n",
       "        text-align: right;\n",
       "    }\n",
       "</style>\n",
       "<table border=\"1\" class=\"dataframe\">\n",
       "  <thead>\n",
       "    <tr style=\"text-align: right;\">\n",
       "      <th></th>\n",
       "      <th>lag_1_bin</th>\n",
       "      <th>lag_2_bin</th>\n",
       "      <th>lag_3_bin</th>\n",
       "      <th>lag_4_bin</th>\n",
       "      <th>lag_5_bin</th>\n",
       "    </tr>\n",
       "    <tr>\n",
       "      <th>Date</th>\n",
       "      <th></th>\n",
       "      <th></th>\n",
       "      <th></th>\n",
       "      <th></th>\n",
       "      <th></th>\n",
       "    </tr>\n",
       "  </thead>\n",
       "  <tbody>\n",
       "    <tr>\n",
       "      <th>2010-01-11</th>\n",
       "      <td>3</td>\n",
       "      <td>0</td>\n",
       "      <td>2</td>\n",
       "      <td>1</td>\n",
       "      <td>3</td>\n",
       "    </tr>\n",
       "    <tr>\n",
       "      <th>2010-01-12</th>\n",
       "      <td>3</td>\n",
       "      <td>3</td>\n",
       "      <td>0</td>\n",
       "      <td>2</td>\n",
       "      <td>1</td>\n",
       "    </tr>\n",
       "    <tr>\n",
       "      <th>2010-01-13</th>\n",
       "      <td>1</td>\n",
       "      <td>3</td>\n",
       "      <td>3</td>\n",
       "      <td>0</td>\n",
       "      <td>2</td>\n",
       "    </tr>\n",
       "    <tr>\n",
       "      <th>2010-01-14</th>\n",
       "      <td>2</td>\n",
       "      <td>1</td>\n",
       "      <td>3</td>\n",
       "      <td>3</td>\n",
       "      <td>0</td>\n",
       "    </tr>\n",
       "    <tr>\n",
       "      <th>2010-01-15</th>\n",
       "      <td>1</td>\n",
       "      <td>2</td>\n",
       "      <td>1</td>\n",
       "      <td>3</td>\n",
       "      <td>3</td>\n",
       "    </tr>\n",
       "  </tbody>\n",
       "</table>\n",
       "</div>"
      ],
      "text/plain": [
       "            lag_1_bin  lag_2_bin  lag_3_bin  lag_4_bin  lag_5_bin\n",
       "Date                                                             \n",
       "2010-01-11          3          0          2          1          3\n",
       "2010-01-12          3          3          0          2          1\n",
       "2010-01-13          1          3          3          0          2\n",
       "2010-01-14          2          1          3          3          0\n",
       "2010-01-15          1          2          1          3          3"
      ]
     },
     "execution_count": 65,
     "metadata": {},
     "output_type": "execute_result"
    }
   ],
   "source": [
    "data[cols_bin].head()"
   ]
  },
  {
   "cell_type": "code",
   "execution_count": 66,
   "metadata": {},
   "outputs": [],
   "source": [
    "fit_models(data)"
   ]
  },
  {
   "cell_type": "code",
   "execution_count": 67,
   "metadata": {},
   "outputs": [],
   "source": [
    "derive_positions(data)"
   ]
  },
  {
   "cell_type": "code",
   "execution_count": 68,
   "metadata": {},
   "outputs": [],
   "source": [
    "evaluate_strats(data)"
   ]
  },
  {
   "cell_type": "code",
   "execution_count": 69,
   "metadata": {
    "scrolled": true
   },
   "outputs": [
    {
     "data": {
      "text/plain": [
       "returns           0.810644\n",
       "strat_log_reg     1.520599\n",
       "strat_gauss_nb    1.437281\n",
       "strat_svm         5.815787\n",
       "dtype: float64"
      ]
     },
     "execution_count": 69,
     "metadata": {},
     "output_type": "execute_result"
    }
   ],
   "source": [
    "data[sel].sum().apply(np.exp)"
   ]
  },
  {
   "cell_type": "code",
   "execution_count": 70,
   "metadata": {},
   "outputs": [
    {
     "data": {
      "text/plain": [
       "<AxesSubplot:xlabel='Date'>"
      ]
     },
     "execution_count": 70,
     "metadata": {},
     "output_type": "execute_result"
    },
    {
     "data": {
      "image/png": "[encoded data removed]",
      "text/plain": [
       "<Figure size 720x432 with 1 Axes>"
      ]
     },
     "metadata": {
      "needs_background": "light"
     },
     "output_type": "display_data"
    }
   ],
   "source": [
    "data[sel].cumsum().apply(np.exp).plot(figsize=(10,6))"
   ]
  },
  {
   "cell_type": "markdown",
   "metadata": {},
   "source": [
    "### Sequential Test-Train Splits"
   ]
  },
  {
   "cell_type": "markdown",
   "metadata": {},
   "source": [
    "I (and through extension, Hilspich) have talked about overfitting before this. Test-train splits aims to eliminate this by using a different data set training the model and testing the model. Test-Train splits are more representative of a real-life implementation of these models where they are trained on historic data and 'tested' or implemented in a real-life on live data."
   ]
  },
  {
   "cell_type": "code",
   "execution_count": 71,
   "metadata": {},
   "outputs": [],
   "source": [
    "split = int(len(data)*0.5) #half test, half train"
   ]
  },
  {
   "cell_type": "code",
   "execution_count": 72,
   "metadata": {},
   "outputs": [],
   "source": [
    "train = data.iloc[:split].copy() # as sequential: 1st half is test, 2nd half is train. "
   ]
  },
  {
   "cell_type": "code",
   "execution_count": 73,
   "metadata": {},
   "outputs": [],
   "source": [
    "fit_models(train)"
   ]
  },
  {
   "cell_type": "code",
   "execution_count": 74,
   "metadata": {},
   "outputs": [],
   "source": [
    "test = data.iloc[split:].copy() # as sequential: 1st half is test, 2nd half is train. "
   ]
  },
  {
   "cell_type": "code",
   "execution_count": 75,
   "metadata": {},
   "outputs": [],
   "source": [
    "derive_positions(test)"
   ]
  },
  {
   "cell_type": "code",
   "execution_count": 76,
   "metadata": {},
   "outputs": [],
   "source": [
    "evaluate_strats(test)"
   ]
  },
  {
   "cell_type": "markdown",
   "metadata": {},
   "source": [
    "As hypothesized, the overfitting in previous applications of the ML techniques has caused returns to be unrealistically applicable. The sequential test-train split provides a better outlook on the algorithms performance. But we can do better. Sequential training is bound by chronological order, whereas a randomized test-train split would allow for the test and the train to be representative of the same period of time. "
   ]
  },
  {
   "cell_type": "code",
   "execution_count": 77,
   "metadata": {},
   "outputs": [
    {
     "data": {
      "text/plain": [
       "returns           0.810644\n",
       "strat_log_reg     1.520599\n",
       "strat_gauss_nb    1.437281\n",
       "strat_svm         5.815787\n",
       "dtype: float64"
      ]
     },
     "execution_count": 77,
     "metadata": {},
     "output_type": "execute_result"
    }
   ],
   "source": [
    "data[sel].sum().apply(np.exp)"
   ]
  },
  {
   "cell_type": "code",
   "execution_count": 78,
   "metadata": {},
   "outputs": [
    {
     "data": {
      "text/plain": [
       "<AxesSubplot:xlabel='Date'>"
      ]
     },
     "execution_count": 78,
     "metadata": {},
     "output_type": "execute_result"
    },
    {
     "data": {
      "image/png": "[encoded data removed]",
      "text/plain": [
       "<Figure size 720x432 with 1 Axes>"
      ]
     },
     "metadata": {
      "needs_background": "light"
     },
     "output_type": "display_data"
    }
   ],
   "source": [
    "data[sel].cumsum().apply(np.exp).plot(figsize=(10,6))"
   ]
  },
  {
   "cell_type": "markdown",
   "metadata": {},
   "source": [
    "### Random Test-Train Splits"
   ]
  },
  {
   "cell_type": "code",
   "execution_count": 79,
   "metadata": {},
   "outputs": [],
   "source": [
    "from sklearn.model_selection import train_test_split"
   ]
  },
  {
   "cell_type": "code",
   "execution_count": 80,
   "metadata": {},
   "outputs": [],
   "source": [
    "train, test = train_test_split(data, test_size = 0.5, shuffle=True, random_state=100)"
   ]
  },
  {
   "cell_type": "code",
   "execution_count": 81,
   "metadata": {},
   "outputs": [],
   "source": [
    "train = train.copy().sort_index() # sorted into chronological order, from random \n",
    "test = test.copy().sort_index()"
   ]
  },
  {
   "cell_type": "code",
   "execution_count": 82,
   "metadata": {},
   "outputs": [
    {
     "data": {
      "text/plain": [
       "returns           0.736500\n",
       "strat_log_reg     1.233045\n",
       "strat_gauss_nb    1.136989\n",
       "strat_svm         2.487022\n",
       "dtype: float64"
      ]
     },
     "execution_count": 82,
     "metadata": {},
     "output_type": "execute_result"
    }
   ],
   "source": [
    "fit_models(train)\n",
    "derive_positions(test)\n",
    "test[sel].sum().apply(np.exp)"
   ]
  },
  {
   "cell_type": "code",
   "execution_count": 83,
   "metadata": {},
   "outputs": [
    {
     "data": {
      "text/plain": [
       "<AxesSubplot:xlabel='Date'>"
      ]
     },
     "execution_count": 83,
     "metadata": {},
     "output_type": "execute_result"
    },
    {
     "data": {
      "image/png": "[encoded data removed]",
      "text/plain": [
       "<Figure size 720x432 with 1 Axes>"
      ]
     },
     "metadata": {
      "needs_background": "light"
     },
     "output_type": "display_data"
    }
   ],
   "source": [
    "test[sel].cumsum().apply(np.exp).plot(figsize=(10,6))"
   ]
  },
  {
   "cell_type": "markdown",
   "metadata": {},
   "source": [
    "### Deep Neural Networks"
   ]
  },
  {
   "cell_type": "markdown",
   "metadata": {},
   "source": [
    "#### DNNs with scikit-learn"
   ]
  },
  {
   "cell_type": "code",
   "execution_count": 84,
   "metadata": {},
   "outputs": [],
   "source": [
    "from sklearn.neural_network import MLPClassifier"
   ]
  },
  {
   "cell_type": "code",
   "execution_count": 85,
   "metadata": {},
   "outputs": [],
   "source": [
    "model = MLPClassifier(solver= 'lbfgs', alpha = 1e-5,\n",
    "                      hidden_layer_sizes = 2* [250], #key part of NNs\n",
    "                      random_state=1)"
   ]
  },
  {
   "cell_type": "code",
   "execution_count": 86,
   "metadata": {},
   "outputs": [
    {
     "name": "stdout",
     "output_type": "stream",
     "text": [
      "Wall time: 16 s\n"
     ]
    },
    {
     "data": {
      "text/plain": [
       "MLPClassifier(alpha=1e-05, hidden_layer_sizes=[250, 250], random_state=1,\n",
       "              solver='lbfgs')"
      ]
     },
     "execution_count": 86,
     "metadata": {},
     "output_type": "execute_result"
    }
   ],
   "source": [
    "%time model.fit(data[cols_bin], data['direction']) # just traininng on direction not the lags"
   ]
  },
  {
   "cell_type": "markdown",
   "metadata": {},
   "source": [
    "Without test-train splits..."
   ]
  },
  {
   "cell_type": "code",
   "execution_count": 87,
   "metadata": {},
   "outputs": [],
   "source": [
    "data['pos_dnn_sk'] = model.predict(data[cols_bin])"
   ]
  },
  {
   "cell_type": "code",
   "execution_count": 88,
   "metadata": {},
   "outputs": [],
   "source": [
    "data['strat_dnn_sk'] = data['pos_dnn_sk'] * data['returns']"
   ]
  },
  {
   "cell_type": "code",
   "execution_count": 89,
   "metadata": {},
   "outputs": [
    {
     "data": {
      "text/plain": [
       "returns          0.810644\n",
       "strat_dnn_sk    31.582484\n",
       "dtype: float64"
      ]
     },
     "execution_count": 89,
     "metadata": {},
     "output_type": "execute_result"
    }
   ],
   "source": [
    "data[['returns','strat_dnn_sk']].sum().apply(np.exp)"
   ]
  },
  {
   "cell_type": "code",
   "execution_count": 90,
   "metadata": {},
   "outputs": [
    {
     "data": {
      "text/plain": [
       "<AxesSubplot:xlabel='Date'>"
      ]
     },
     "execution_count": 90,
     "metadata": {},
     "output_type": "execute_result"
    },
    {
     "data": {
      "image/png": "[encoded data removed]",
      "text/plain": [
       "<Figure size 720x432 with 1 Axes>"
      ]
     },
     "metadata": {
      "needs_background": "light"
     },
     "output_type": "display_data"
    }
   ],
   "source": [
    "data[['returns','strat_dnn_sk']].cumsum().apply(np.exp).plot(figsize=(10,6))"
   ]
  },
  {
   "cell_type": "markdown",
   "metadata": {},
   "source": [
    "...with test-train splits"
   ]
  },
  {
   "cell_type": "code",
   "execution_count": 91,
   "metadata": {},
   "outputs": [],
   "source": [
    "train, test = train_test_split(data, test_size=0.5, random_state=100)\n",
    "train = train.copy().sort_index()\n",
    "test = test.copy().sort_index()"
   ]
  },
  {
   "cell_type": "code",
   "execution_count": 92,
   "metadata": {},
   "outputs": [],
   "source": [
    "#re-trains\n",
    "model = MLPClassifier(solver='lbfgs', alpha= 1e-5, max_iter=500,\n",
    "                     hidden_layer_sizes =  3 *[500], # more layers and more nodes per layer\n",
    "                     random_state = 1)"
   ]
  },
  {
   "cell_type": "code",
   "execution_count": 93,
   "metadata": {},
   "outputs": [
    {
     "name": "stdout",
     "output_type": "stream",
     "text": [
      "Wall time: 2min 20s\n"
     ]
    },
    {
     "data": {
      "text/plain": [
       "MLPClassifier(alpha=1e-05, hidden_layer_sizes=[500, 500, 500], max_iter=500,\n",
       "              random_state=1, solver='lbfgs')"
      ]
     },
     "execution_count": 93,
     "metadata": {},
     "output_type": "execute_result"
    }
   ],
   "source": [
    "%time model.fit(train[cols_bin], train['direction']) # just training on direction not the lags "
   ]
  },
  {
   "cell_type": "code",
   "execution_count": 94,
   "metadata": {},
   "outputs": [],
   "source": [
    "test['pos_dnn_sk'] = model.predict(test[cols_bin])"
   ]
  },
  {
   "cell_type": "code",
   "execution_count": 95,
   "metadata": {},
   "outputs": [],
   "source": [
    "test['strat_dnn_sk'] = test['pos_dnn_sk'] *test['returns']"
   ]
  },
  {
   "cell_type": "markdown",
   "metadata": {},
   "source": [
    "In this particular test-train split the resulting strategy using the SKLearn DNN is only marginally better than long only! Perhaps, one should add more data, use more lags (or other indicators), and nodes to increase the accuracy."
   ]
  },
  {
   "cell_type": "code",
   "execution_count": 96,
   "metadata": {},
   "outputs": [
    {
     "data": {
      "text/plain": [
       "returns         0.736500\n",
       "strat_dnn_sk    0.789848\n",
       "dtype: float64"
      ]
     },
     "execution_count": 96,
     "metadata": {},
     "output_type": "execute_result"
    }
   ],
   "source": [
    "test[['returns','strat_dnn_sk']].sum().apply(np.exp)"
   ]
  },
  {
   "cell_type": "code",
   "execution_count": 97,
   "metadata": {},
   "outputs": [
    {
     "data": {
      "text/plain": [
       "<AxesSubplot:xlabel='Date'>"
      ]
     },
     "execution_count": 97,
     "metadata": {},
     "output_type": "execute_result"
    },
    {
     "data": {
      "image/png": "[encoded data removed]",
      "text/plain": [
       "<Figure size 720x432 with 1 Axes>"
      ]
     },
     "metadata": {
      "needs_background": "light"
     },
     "output_type": "display_data"
    }
   ],
   "source": [
    "test[['returns','strat_dnn_sk']].cumsum().apply(np.exp).plot(figsize=(10,6))"
   ]
  },
  {
   "cell_type": "markdown",
   "metadata": {},
   "source": [
    "#### DNNs with TensorFlow"
   ]
  },
  {
   "cell_type": "code",
   "execution_count": 98,
   "metadata": {},
   "outputs": [],
   "source": [
    "import tensorflow as tf\n",
    "from keras.layers import Dense\n",
    "from keras.models import Sequential"
   ]
  },
  {
   "cell_type": "code",
   "execution_count": 99,
   "metadata": {},
   "outputs": [],
   "source": [
    "def create_model():\n",
    "    np.random.seed(100)\n",
    "    tf.random.set_seed(100)\n",
    "    model = Sequential()\n",
    "    model.add(Dense(16, activation='relu', input_dim=lags))\n",
    "    model.add(Dense(16, activation='relu'))\n",
    "    model.add(Dense(1, activation='sigmoid'))\n",
    "    model.compile(loss='binary_crossentropy', optimizer='rmsprop',\n",
    "                  metrics=['accuracy'])\n",
    "    return model"
   ]
  },
  {
   "cell_type": "code",
   "execution_count": 100,
   "metadata": {},
   "outputs": [],
   "source": [
    " # Moment matching (now mean is 0 and sigma = 1)\n",
    "data_ = (data - data.mean()) / data.std()\n",
    "data['direction_'] = np.where(data['direction'] == 1, 1, 0)"
   ]
  },
  {
   "cell_type": "code",
   "execution_count": 101,
   "metadata": {},
   "outputs": [],
   "source": [
    "model = create_model()"
   ]
  },
  {
   "cell_type": "code",
   "execution_count": 102,
   "metadata": {},
   "outputs": [
    {
     "name": "stdout",
     "output_type": "stream",
     "text": [
      "Wall time: 4.13 s\n"
     ]
    },
    {
     "data": {
      "text/plain": [
       "<tensorflow.python.keras.callbacks.History at 0x29bd9883e20>"
      ]
     },
     "execution_count": 102,
     "metadata": {},
     "output_type": "execute_result"
    }
   ],
   "source": [
    "%%time\n",
    "model.fit(data_[cols], data['direction_'],\n",
    "          epochs=50, verbose=False)"
   ]
  },
  {
   "cell_type": "code",
   "execution_count": 103,
   "metadata": {},
   "outputs": [
    {
     "name": "stdout",
     "output_type": "stream",
     "text": [
      "70/70 [==============================] - 0s 1ms/step - loss: 0.6689 - accuracy: 0.5891\n"
     ]
    },
    {
     "data": {
      "text/plain": [
       "[0.6689160466194153, 0.5891402959823608]"
      ]
     },
     "execution_count": 103,
     "metadata": {},
     "output_type": "execute_result"
    }
   ],
   "source": [
    "model.evaluate(data_[cols], data['direction_'])"
   ]
  },
  {
   "cell_type": "code",
   "execution_count": 104,
   "metadata": {},
   "outputs": [
    {
     "data": {
      "text/plain": [
       "array([1, 0, 0, 0, 1, 0, 0, 1, 1, 1])"
      ]
     },
     "execution_count": 104,
     "metadata": {},
     "output_type": "execute_result"
    }
   ],
   "source": [
    "pred = np.where(model.predict(data_[cols]) > 0.5, 1, 0)\n",
    "#Where probability is more likely than not\n",
    "pred[:10].flatten()"
   ]
  },
  {
   "cell_type": "code",
   "execution_count": 106,
   "metadata": {},
   "outputs": [],
   "source": [
    "data['pos_dnn_ke'] = np.where(pred > 0, 1, -1)  \n",
    "#Where pred is 0, change to -1..."
   ]
  },
  {
   "cell_type": "code",
   "execution_count": 107,
   "metadata": {},
   "outputs": [],
   "source": [
    "data['strat_dnn_ke'] = data['pos_dnn_ke'] * data['returns']"
   ]
  },
  {
   "cell_type": "markdown",
   "metadata": {},
   "source": [
    "This tensorflow model performs very well! But not as good as the 30x from the sk-learn method."
   ]
  },
  {
   "cell_type": "code",
   "execution_count": 108,
   "metadata": {
    "scrolled": true
   },
   "outputs": [
    {
     "data": {
      "text/plain": [
       "returns         0.810644\n",
       "strat_dnn_ke    5.977176\n",
       "dtype: float64"
      ]
     },
     "execution_count": 108,
     "metadata": {},
     "output_type": "execute_result"
    }
   ],
   "source": [
    "data[['returns', 'strat_dnn_ke']].sum().apply(np.exp)"
   ]
  },
  {
   "cell_type": "code",
   "execution_count": 109,
   "metadata": {},
   "outputs": [
    {
     "data": {
      "image/png": "[encoded data removed]",
      "text/plain": [
       "<Figure size 720x432 with 1 Axes>"
      ]
     },
     "metadata": {
      "needs_background": "light"
     },
     "output_type": "display_data"
    }
   ],
   "source": [
    "data[['returns', 'strat_dnn_ke']].cumsum(\n",
    "        ).apply(np.exp).plot(figsize=(10, 6));\n",
    "# plt.savefig('../../images/ch15/strat_ml_14.png');"
   ]
  },
  {
   "cell_type": "code",
   "execution_count": 110,
   "metadata": {},
   "outputs": [],
   "source": [
    "#Using previous test train splits\n",
    "mu, std = train.mean(), train.std()"
   ]
  },
  {
   "cell_type": "code",
   "execution_count": 111,
   "metadata": {},
   "outputs": [],
   "source": [
    "train_ = (train - mu) / mu.std()  \n",
    "# Moment matching (now mean is 0 and sigma = 1)"
   ]
  },
  {
   "cell_type": "code",
   "execution_count": 112,
   "metadata": {},
   "outputs": [],
   "source": [
    "model = create_model()"
   ]
  },
  {
   "cell_type": "code",
   "execution_count": 113,
   "metadata": {},
   "outputs": [],
   "source": [
    "#Working on training data\n",
    "train['direction_'] = np.where(train['direction'] > 0, 1, 0)\n",
    "#Where pred is 0, change to -1..."
   ]
  },
  {
   "cell_type": "code",
   "execution_count": 114,
   "metadata": {},
   "outputs": [
    {
     "name": "stdout",
     "output_type": "stream",
     "text": [
      "Wall time: 2.34 s\n"
     ]
    },
    {
     "data": {
      "text/plain": [
       "<tensorflow.python.keras.callbacks.History at 0x29bdb026370>"
      ]
     },
     "execution_count": 114,
     "metadata": {},
     "output_type": "execute_result"
    }
   ],
   "source": [
    "%%time\n",
    "model.fit(train_[cols], train['direction_'],\n",
    "          epochs=50, verbose=False)"
   ]
  },
  {
   "cell_type": "code",
   "execution_count": 115,
   "metadata": {},
   "outputs": [],
   "source": [
    "test_ = (test - mu) / std\n",
    "# Moment matching (now mean is 0 and sigma = 1)"
   ]
  },
  {
   "cell_type": "code",
   "execution_count": 116,
   "metadata": {},
   "outputs": [],
   "source": [
    "test['direction_'] = np.where(test['direction'] > 0, 1, 0)\n",
    "#Digitize"
   ]
  },
  {
   "cell_type": "code",
   "execution_count": 117,
   "metadata": {
    "scrolled": true
   },
   "outputs": [
    {
     "name": "stdout",
     "output_type": "stream",
     "text": [
      "35/35 [==============================] - 0s 1ms/step - loss: 0.9678 - accuracy: 0.5059\n"
     ]
    },
    {
     "data": {
      "text/plain": [
       "[0.9677505493164062, 0.5058823823928833]"
      ]
     },
     "execution_count": 117,
     "metadata": {},
     "output_type": "execute_result"
    }
   ],
   "source": [
    "model.evaluate(test_[cols], test['direction_'])"
   ]
  },
  {
   "cell_type": "code",
   "execution_count": 118,
   "metadata": {},
   "outputs": [
    {
     "data": {
      "text/plain": [
       "array([0, 1, 1, 1, 0, 1, 0, 1, 0, 0])"
      ]
     },
     "execution_count": 118,
     "metadata": {},
     "output_type": "execute_result"
    }
   ],
   "source": [
    "pred = np.where(model.predict(test_[cols]) > 0.5, 1, 0) \n",
    "pred[:10].flatten()"
   ]
  },
  {
   "cell_type": "markdown",
   "metadata": {},
   "source": [
    "The opposite of [104]"
   ]
  },
  {
   "cell_type": "code",
   "execution_count": 119,
   "metadata": {},
   "outputs": [],
   "source": [
    "test['pos_dnn_ke'] = np.where(pred > 0, 1, -1)"
   ]
  },
  {
   "cell_type": "code",
   "execution_count": 120,
   "metadata": {},
   "outputs": [],
   "source": [
    "test['strat_dnn_ke'] = test['pos_dnn_ke'] * test['returns']"
   ]
  },
  {
   "cell_type": "markdown",
   "metadata": {},
   "source": [
    "With the test train splits from before, the keras/Tensor flow model out performs the sk-learn model significantly!"
   ]
  },
  {
   "cell_type": "code",
   "execution_count": 121,
   "metadata": {},
   "outputs": [
    {
     "data": {
      "text/plain": [
       "returns         0.736500\n",
       "strat_dnn_sk    0.789848\n",
       "strat_dnn_ke    1.023718\n",
       "dtype: float64"
      ]
     },
     "execution_count": 121,
     "metadata": {},
     "output_type": "execute_result"
    }
   ],
   "source": [
    "test[['returns', 'strat_dnn_sk', 'strat_dnn_ke']].sum().apply(np.exp)"
   ]
  },
  {
   "cell_type": "code",
   "execution_count": 122,
   "metadata": {
    "scrolled": true
   },
   "outputs": [
    {
     "data": {
      "image/png": "[encoded data removed]",
      "text/plain": [
       "<Figure size 720x432 with 1 Axes>"
      ]
     },
     "metadata": {
      "needs_background": "light"
     },
     "output_type": "display_data"
    }
   ],
   "source": [
    "test[['returns', 'strat_dnn_sk', 'strat_dnn_ke']].cumsum(\n",
    "        ).apply(np.exp).plot(figsize=(10, 6));\n",
    "# plt.savefig('../../images/ch15/strat_ml_15.png');"
   ]
  }
 ],
 "metadata": {
  "kernelspec": {
   "display_name": "Python 3",
   "language": "python",
   "name": "python3"
  },
  "language_info": {
   "codemirror_mode": {
    "name": "ipython",
    "version": 3
   },
   "file_extension": ".py",
   "mimetype": "text/x-python",
   "name": "python",
   "nbconvert_exporter": "python",
   "pygments_lexer": "ipython3",
   "version": "3.8.8"
  }
 },
 "nbformat": 4,
 "nbformat_minor": 4
}
